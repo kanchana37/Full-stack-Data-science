{
 "cells": [
  {
   "cell_type": "markdown",
   "id": "7e21461e",
   "metadata": {},
   "source": [
    "## Machine Learning Assignment_2"
   ]
  },
  {
   "cell_type": "markdown",
   "id": "98e866c0",
   "metadata": {},
   "source": [
    "### Q1. What is the concept of human learning? Please give two examples."
   ]
  },
  {
   "cell_type": "markdown",
   "id": "d9164e67",
   "metadata": {},
   "source": [
    "Ans 1. The concept of human learning is the process of acquiring new knowledge, skills, or behaviors through experience, study, or instruction. It involves the modification of an individual's behavior or mental schemas through new experiences or information.\n",
    "\n",
    "Two examples of human learning are:\n",
    "\n",
    "1. Classical Conditioning: This is a type of learning in which a neutral stimulus is repeatedly paired with a natural stimulus until the neutral stimulus elicits the same response as the natural stimulus. For example, a dog may learn to associate the sound of a bell with the presence of food and begin to salivate at the sound of the bell alone.\n",
    "\n",
    "2. Operant Conditioning: This is a type of learning in which behavior is modified through the use of rewards or punishments. For example, a child may learn to behave well in school in order to receive praise from the teacher, or may learn not to touch a hot stove after experiencing the pain of a burn."
   ]
  },
  {
   "cell_type": "markdown",
   "id": "f5b12462",
   "metadata": {},
   "source": [
    "### Q2. What different forms of human learning are there? Are there any machine learning equivalents?"
   ]
  },
  {
   "cell_type": "markdown",
   "id": "a747bbf0",
   "metadata": {},
   "source": [
    "Ans 2. There are several different forms of human learning, including:\n",
    "\n",
    "1. Classical conditioning: as mentioned earlier, this is a form of learning where an individual learns to associate a neutral stimulus with a naturally occurring stimulus that leads to a particular response.\n",
    "\n",
    "2. Operant conditioning: this form of learning involves learning through rewards and punishments, where certain behaviors are reinforced or discouraged based on the consequences that follow.\n",
    "\n",
    "3. Observational learning: this form of learning involves learning by observing the behavior of others, and then imitating that behavior.\n",
    "\n",
    "4. Active learning: this form of learning involves actively engaging with new material or experiences, rather than just passively absorbing information.\n",
    "\n",
    "5. Associative learning: this form of learning involves making connections between different stimuli or concepts.\n",
    "\n",
    "6. Implicit learning: this form of learning occurs without conscious awareness, such as learning to recognize patterns or regularities in a complex system.\n",
    "\n",
    "There are machine learning equivalents to some of these forms of human learning, such as:\n",
    "\n",
    "1. Supervised learning: this is similar to operant conditioning, where an algorithm is trained using labeled data with desired outputs, and the algorithm learns to predict outputs based on input data.\n",
    "\n",
    "2. Unsupervised learning: this is similar to associative learning, where an algorithm is trained to identify patterns or associations within data without any prior knowledge of the expected outputs.\n",
    "\n",
    "3. Reinforcement learning: this is similar to operant conditioning, where an algorithm learns to maximize rewards and minimize penalties based on its actions in an environment.\n",
    "\n",
    "4. Transfer learning: this is similar to observational learning, where a pre-trained model is used as a starting point for learning new tasks or domains."
   ]
  },
  {
   "cell_type": "markdown",
   "id": "8db3a6a8",
   "metadata": {},
   "source": [
    "### Q3.What is machine learning, and how does it work? What are the key responsibilities of machine learning?"
   ]
  },
  {
   "cell_type": "markdown",
   "id": "6f17e5eb",
   "metadata": {},
   "source": [
    "Ans 3. Machine learning is a type of artificial intelligence that involves developing algorithms and models that can learn from data, without being explicitly programmed. The goal of machine learning is to enable machines to learn patterns and make decisions based on data, in a way that is similar to how humans learn.\n",
    "\n",
    "Machine learning works by training algorithms on large datasets, using statistical techniques to identify patterns in the data. The algorithm learns from the data by adjusting its parameters and optimizing its performance, based on feedback from the training data. Once the algorithm has been trained, it can be used to make predictions or decisions on new data, by applying the patterns it has learned to the new data.\n",
    "\n",
    "The key responsibilities of machine learning include:\n",
    "\n",
    "1. Data preparation: Machine learning models require large amounts of data to be trained effectively. The process of collecting, cleaning, and organizing data is a critical responsibility of machine learning practitioners.\n",
    "\n",
    "2. Model development: The development of machine learning models involves selecting appropriate algorithms, adjusting model parameters, and optimizing model performance.\n",
    "\n",
    "3. Model evaluation: Machine learning models must be tested and evaluated to ensure that they are accurate and effective. This involves comparing model predictions to actual outcomes, and using various metrics to assess model performance.\n",
    "\n",
    "4. Model deployment: Once a machine learning model has been developed and evaluated, it must be deployed into production environments. This involves integrating the model into existing systems and ensuring that it can scale to handle large volumes of data.\n",
    "\n",
    "5. Model maintenance: Machine learning models require ongoing maintenance and monitoring to ensure that they continue to perform effectively over time. This may involve retraining models on new data, updating model parameters, and addressing issues that arise during deployment."
   ]
  },
  {
   "cell_type": "markdown",
   "id": "eeaeaecd",
   "metadata": {},
   "source": [
    "### Q4. Define the terms penalty and reward in the context of reinforcement learning."
   ]
  },
  {
   "cell_type": "markdown",
   "id": "1cb5e592",
   "metadata": {},
   "source": [
    "Ans 4. In the context of reinforcement learning, \"penalty\" and \"reward\" are terms used to describe the feedback that an agent receives from its environment based on its actions.\n",
    "\n",
    "1. A \"penalty\" is a negative feedback signal that the agent receives when it performs an action that leads to an undesired outcome. For example, if an agent in a game loses a life or receives damage, this could be considered a penalty. Penalties are used to discourage the agent from taking similar actions in the future.\n",
    "\n",
    "2. On the other hand, a \"reward\" is a positive feedback signal that the agent receives when it performs an action that leads to a desired outcome. For example, if an agent in a game collects a power-up or defeats an enemy, this could be considered a reward. Rewards are used to encourage the agent to take similar actions in the future.\n",
    "\n",
    "In reinforcement learning, the goal is to train an agent to take actions that maximize the total amount of reward it receives over time, while minimizing the penalties. The agent learns through trial and error, exploring different actions and observing the resulting rewards and penalties, and adjusting its behavior accordingly to achieve its goals.\n",
    "\n",
    "\n",
    "\n"
   ]
  },
  {
   "cell_type": "markdown",
   "id": "e475f40b",
   "metadata": {},
   "source": [
    "### Q5. Explain the term learning as a search?"
   ]
  },
  {
   "cell_type": "markdown",
   "id": "59b7ec42",
   "metadata": {},
   "source": [
    "Ans 5. \"Learning as a search\" is a concept in machine learning that refers to the idea of searching through a space of possible solutions to find the best solution to a given problem. This is often done using algorithms that explore different possible solutions and evaluate them based on some objective criteria.\n",
    "\n",
    "In this approach, the process of learning is treated as a search problem, where the goal is to find the best possible model or solution that can explain the data or solve the problem at hand. The search space can be quite large and complex, and the challenge is to find an efficient way to explore the space and find the best solution.\n",
    "\n",
    "Different search algorithms can be used to explore the space of possible solutions, such as gradient descent, genetic algorithms, and Monte Carlo methods. These algorithms use different strategies to move through the search space, evaluating different solutions along the way and updating the search direction based on the results.\n",
    "\n",
    "Learning as a search can be applied to a variety of machine learning tasks, such as feature selection, parameter optimization, and model selection. By treating learning as a search problem, machine learning algorithms can efficiently explore a large space of possible solutions and find the best solution to the problem at hand."
   ]
  },
  {
   "cell_type": "markdown",
   "id": "3b6c2dad",
   "metadata": {},
   "source": [
    "### Q6. What are the various goals of machine learning? What is the relationship between these and human learning?"
   ]
  },
  {
   "cell_type": "markdown",
   "id": "465917ce",
   "metadata": {},
   "source": [
    "Ans 6. The various goals of machine learning include:\n",
    "\n",
    "1. Prediction: Predicting an outcome or value based on input data.\n",
    "2. Classification: Assigning a label or category to input data based on previous examples.\n",
    "3. Clustering: Grouping similar input data together based on similarities in their features.\n",
    "4. Anomaly detection: Identifying outliers or abnormal data points that do not conform to expected patterns.\n",
    "5. Association rule learning: Discovering relationships or dependencies between variables in the data.\n",
    "6. Reinforcement learning: Learning how to take actions that maximize reward in a given environment.\n",
    "\n",
    "These goals of machine learning are closely related to human learning. For example, humans often learn to predict outcomes based on past experiences, classify objects based on their features, group similar objects together, detect anomalies in patterns, identify relationships between variables, and learn through trial and error to achieve their goals.\n",
    "\n",
    "In fact, many machine learning algorithms are inspired by the way humans learn and make decisions, such as neural networks that mimic the structure of the brain, and reinforcement learning algorithms that use trial and error to learn how to take actions in an environment. By studying human learning and cognition, researchers in machine learning are able to develop more effective and efficient algorithms that can solve complex problems in various domains."
   ]
  },
  {
   "cell_type": "markdown",
   "id": "2eca2868",
   "metadata": {},
   "source": [
    "### Q7. Illustrate the various elements of machine learning using a real-life illustration."
   ]
  },
  {
   "cell_type": "markdown",
   "id": "a564be4d",
   "metadata": {},
   "source": [
    "Ans 7. Let's take the example of a spam email filter to illustrate the various elements of machine learning:\n",
    "\n",
    "1. Data: The first step in machine learning is to collect and prepare data. In the case of a spam email filter, this could involve collecting a large dataset of emails, both spam and non-spam, and labeling them as such.\n",
    "\n",
    "2. Feature extraction: Once the data has been collected, the next step is to extract relevant features or characteristics from the data that can be used to distinguish between spam and non-spam emails. For example, features could include the presence of certain words or phrases, the sender's email address, and the subject line.\n",
    "\n",
    "3. Model selection: Once the relevant features have been identified, the next step is to choose an appropriate machine learning model to learn the patterns and relationships in the data. For example, a popular model for email classification is a Naive Bayes classifier, which calculates the probability of an email being spam based on the occurrence of certain features.\n",
    "\n",
    "4. Training: The machine learning model is then trained on a subset of the labeled data, in order to learn the patterns and relationships between the features and the labels. The remaining data is then used to evaluate the performance of the model.\n",
    "\n",
    "5. Validation: Once the model has been trained, it is tested on a separate set of data to evaluate its performance and generalizability. This step helps to ensure that the model is not overfitting to the training data, and can accurately classify new, unseen data.\n",
    "\n",
    "6. Deployment: Once the model has been validated, it can be deployed in a real-world application, such as an email client, to automatically classify incoming emails as spam or non-spam.\n",
    "\n",
    "In summary, the elements of machine learning in the context of a spam email filter include data collection and preparation, feature extraction, model selection, training, validation, and deployment. By applying these steps, machine learning can be used to automatically classify emails and reduce the amount of spam in a user's inbox."
   ]
  },
  {
   "cell_type": "markdown",
   "id": "23dc5550",
   "metadata": {},
   "source": [
    "### Q8. Provide an example of the abstraction method."
   ]
  },
  {
   "cell_type": "markdown",
   "id": "ee28f33d",
   "metadata": {},
   "source": [
    "Ans 8. In machine learning, abstraction is often used to simplify complex problems by identifying and focusing on the most important features or attributes of the data. One example of abstraction in machine learning is feature engineering, which involves selecting, transforming, and scaling the input features in order to improve the performance of a model.\n",
    "\n",
    "For instance, in image recognition, we can use abstraction to extract important features from images, such as edges, corners, or color histograms, and use them as inputs for a classification model. This can improve the accuracy of the model and reduce the computational cost of training.\n",
    "\n",
    "Another example of abstraction in machine learning is dimensionality reduction, which involves transforming high-dimensional data into a lower-dimensional space while preserving important information. This can help in reducing noise, improving model performance, and reducing the risk of overfitting.\n",
    "\n",
    "For instance, principal component analysis (PCA) is a common technique for dimensionality reduction, which involves transforming the input features into a new set of uncorrelated variables that capture the most important information in the data. This can help in reducing the number of features while preserving the most important information, making the model more efficient and accurate.\n",
    "\n",
    "Overall, abstraction is a powerful technique in machine learning that can help in simplifying complex problems, improving model performance, and reducing the computational cost of training."
   ]
  },
  {
   "cell_type": "markdown",
   "id": "f695f1f6",
   "metadata": {},
   "source": [
    "### Q9. What is the concept of generalization? What function does it play in the machine learning process?"
   ]
  },
  {
   "cell_type": "markdown",
   "id": "b687b443",
   "metadata": {},
   "source": [
    "Ans 9. Generalization is a fundamental concept in machine learning that refers to the ability of a trained model to perform well on new, unseen data that was not used during training. In other words, a model that can generalize well can accurately predict outcomes for data that it has never encountered before.\n",
    "\n",
    "The goal of machine learning is to learn patterns and relationships from a training dataset and use that knowledge to make accurate predictions on new data. However, if a model is too complex and overfits the training data, it may not be able to generalize well to new data. On the other hand, if a model is too simple, it may underfit the training data and also fail to generalize well.\n",
    "\n",
    "To achieve good generalization, machine learning algorithms often use techniques such as regularization, early stopping, cross-validation, and dropout. These techniques help prevent overfitting by limiting the complexity of the model or reducing the influence of individual data points during training.\n",
    "\n",
    "Generalization plays a critical role in the machine learning process because the ultimate goal of machine learning is to build models that can accurately predict outcomes for new, unseen data. Without good generalization, a model may not be useful in practice, as it would only be able to make accurate predictions on data that it has already seen during training. Therefore, the ability of a model to generalize well is a key factor in determining its usefulness and applicability in real-world scenarios."
   ]
  },
  {
   "cell_type": "markdown",
   "id": "ce1c68ac",
   "metadata": {},
   "source": [
    "### Q10. What is classification, exactly? What are the main distinctions between classification and regression?"
   ]
  },
  {
   "cell_type": "markdown",
   "id": "456bac78",
   "metadata": {},
   "source": [
    "Ans 10. Classification is a type of supervised learning in machine learning that involves predicting a categorical or discrete target variable based on a set of input features. The goal of classification is to learn a decision boundary that can separate the input data into different classes or categories.\n",
    "\n",
    "For example, a classification model could be trained to predict whether an email is spam or not based on the email's content and metadata. Another example is image classification, where a model could be trained to predict the type of object present in an image.\n",
    "\n",
    "On the other hand, regression is another type of supervised learning that involves predicting a continuous numerical value based on a set of input features. The goal of regression is to learn a function that can map the input data to a continuous output value.\n",
    "\n",
    "For example, a regression model could be trained to predict the price of a house based on its features such as square footage, number of bedrooms, and location.\n",
    "\n",
    "The main distinctions between classification and regression are as follows:\n",
    "\n",
    "1. Output: In classification, the output is a categorical or discrete variable, whereas in regression, the output is a continuous variable.\n",
    "\n",
    "2. Evaluation: The evaluation metrics for classification are different from those for regression. For classification, common evaluation metrics include accuracy, precision, recall, and F1-score, while for regression, common evaluation metrics include mean squared error (MSE), mean absolute error (MAE), and R-squared.\n",
    "\n",
    "3. Algorithmic approaches: Classification and regression typically require different algorithmic approaches. Some common classification algorithms include logistic regression, decision trees, support vector machines, and neural networks. Some common regression algorithms include linear regression, polynomial regression, decision trees, and neural networks.\n",
    "\n",
    "Overall, classification and regression are both important types of supervised learning that are used in many real-world applications. Understanding the differences between the two can help in choosing the appropriate algorithm for a given problem."
   ]
  },
  {
   "cell_type": "markdown",
   "id": "35c75ffd",
   "metadata": {},
   "source": [
    "### Q11. What is regression, and how does it work? Give an example of a real-world problem that was solved using regression."
   ]
  },
  {
   "cell_type": "markdown",
   "id": "e8015d3e",
   "metadata": {},
   "source": [
    "Ans 11. Regression is a type of supervised machine learning algorithm that involves predicting a continuous numeric output variable based on a set of input features. The goal of regression is to learn a mathematical function that can accurately map the input features to the output variable.\n",
    "\n",
    "The most common type of regression is linear regression, which involves fitting a straight line to the data that minimizes the difference between the predicted and actual values. The equation for a simple linear regression model can be expressed as:\n",
    "\n",
    "y = b0 + b1*x\n",
    "\n",
    "where y is the dependent variable or output, x is the independent variable or input, b0 is the intercept, and b1 is the slope of the line.\n",
    "\n",
    "In order to train a regression model, we need to first collect a dataset that contains both input and output variables. We can then split the data into training and testing sets, fit the regression model to the training data, and evaluate its performance on the testing data using metrics such as mean squared error (MSE) or R-squared.\n",
    "\n",
    "One example of a real-world problem that can be solved using regression is predicting housing prices based on features such as location, square footage, number of bedrooms, and number of bathrooms. In this case, we can use a regression model to learn the relationship between the input features and the output variable (i.e., the price of the house) and use it to make predictions for new houses.\n",
    "\n",
    "Another example is predicting the sales revenue of a company based on factors such as advertising spend, number of employees, and time of year. Here, we can use regression to learn the relationship between the input features and the output variable (i.e., the sales revenue) and use it to make predictions for future periods.\n",
    "\n",
    "Overall, regression is a powerful machine learning technique that can be used in a wide range of applications where we need to predict a continuous output variable based on a set of input features."
   ]
  },
  {
   "cell_type": "markdown",
   "id": "a73c09a2",
   "metadata": {},
   "source": [
    "### Q12. Describe the clustering mechanism in detail."
   ]
  },
  {
   "cell_type": "markdown",
   "id": "27217225",
   "metadata": {},
   "source": [
    "Ans 12. Clustering is a machine learning technique that involves grouping similar data points together based on their features or attributes. The goal of clustering is to identify patterns or structures in the data that can be used for further analysis or decision-making.\n",
    "\n",
    "The process of clustering involves the following steps:\n",
    "\n",
    "1. Data preparation: The first step in clustering is to collect and preprocess the data. This involves selecting the relevant features, cleaning the data, and scaling or normalizing the values to ensure that all features are on the same scale.\n",
    "\n",
    "2. Choosing a clustering algorithm: There are many different clustering algorithms available, each with its own strengths and weaknesses. The choice of algorithm will depend on the nature of the data, the desired number of clusters, and the computational resources available. Some popular clustering algorithms include k-means, hierarchical clustering, and DBSCAN.\n",
    "\n",
    "3. Setting the parameters: Once the clustering algorithm has been chosen, we need to set its parameters. This involves specifying the number of clusters (k) in the case of k-means, or the distance metric and linkage criteria in the case of hierarchical clustering.\n",
    "\n",
    "4. Computing the clusters: Once the parameters have been set, we can apply the clustering algorithm to the data and compute the clusters. The algorithm will assign each data point to a cluster based on its distance to the cluster centroid or other criteria.\n",
    "\n",
    "5. Evaluating the clusters: After the clusters have been computed, we need to evaluate their quality. This involves measuring the homogeneity and separation of the clusters, as well as their overall coherence and interpretability. We may also need to visualize the clusters in order to gain insights into the underlying patterns or structures in the data.\n",
    "\n",
    "6. Using the clusters: Once the clusters have been evaluated, we can use them for a variety of purposes, such as anomaly detection, recommendation systems, or customer segmentation. The specific use case will depend on the nature of the data and the goals of the analysis.\n",
    "\n",
    "Overall, clustering is a powerful technique for identifying patterns and structures in complex data sets. By grouping similar data points together, we can gain insights into the underlying relationships and dependencies in the data, and use these insights to inform further analysis and decision-making."
   ]
  },
  {
   "cell_type": "markdown",
   "id": "c1acabf5",
   "metadata": {},
   "source": [
    "### Q13. Make brief observations on two of the following topics:\n",
    "\n",
    "### i. Machine learning algorithms are used\n",
    "### ii. Studying under supervision\n",
    "### iii. Studying without supervision\n",
    "### iv. Reinforcement learning is a form of learning based on positive reinforcement."
   ]
  },
  {
   "cell_type": "markdown",
   "id": "8c37d1df",
   "metadata": {},
   "source": [
    "#### Ans 13(i) Machine learning algorithms are at the heart of the machine learning process, as they enable computers to learn from data and make predictions or decisions based on that learning. There are various types of machine learning algorithms, each with their own strengths, weaknesses, and applications.\n",
    "\n",
    "1. Supervised learning algorithms, such as regression and classification algorithms, are used to learn from labeled data and make predictions or classifications on new, unlabeled data. These algorithms are commonly used in tasks such as image and speech recognition, natural language processing, and predictive analytics.\n",
    "\n",
    "2. Unsupervised learning algorithms, such as clustering and anomaly detection algorithms, are used to find patterns or anomalies in unlabeled data. These algorithms are commonly used in tasks such as market segmentation, customer profiling, and anomaly detection.\n",
    "\n",
    "3. Reinforcement learning algorithms are used to learn from feedback in a dynamic environment, where the algorithm must take actions to maximize a reward signal. These algorithms are commonly used in tasks such as game playing, robotics, and control systems.\n",
    "\n",
    "4. Deep learning algorithms, such as neural networks, are a type of supervised learning algorithm that are particularly suited for learning from complex, high-dimensional data such as images, audio, and text. These algorithms have been used to achieve state-of-the-art performance in tasks such as image recognition, speech recognition, and natural language processing.\n",
    "\n",
    "The choice of machine learning algorithm will depend on the specific task at hand, the available data, and the performance metrics of interest. It is important to carefully evaluate and compare different algorithms to select the one that is best suited for the particular application."
   ]
  },
  {
   "cell_type": "markdown",
   "id": "0123ad16",
   "metadata": {},
   "source": [
    "#### Ans13 (ii) and (iii) In machine learning, studying under supervision and without supervision also have their own advantages and disadvantages.\n",
    "\n",
    "Studying under supervision, such as through a structured course or a mentorship program, can provide a solid foundation in the key concepts and techniques of machine learning. The instructor or mentor can provide guidance, feedback, and support to help the learner navigate the complex landscape of machine learning. This approach is particularly useful for beginners or those who are new to the field, as it can help them build a strong foundation of knowledge and skills.\n",
    "\n",
    "On the other hand, studying without supervision, such as through self-study or online resources, can offer more flexibility and independence in exploring different topics and approaches in machine learning. The learner can choose their own pace and focus on the topics that are most relevant to their interests or goals. This approach is well-suited for more advanced learners who already have some background in machine learning and are able to work independently.\n",
    "\n",
    "One potential disadvantage of studying under supervision in machine learning is that it can be more expensive and time-consuming than self-study. It may also limit the learner's creativity and flexibility in exploring new topics or approaches.\n",
    "\n",
    "In contrast, studying without supervision in machine learning may require more self-discipline and motivation, as the learner is responsible for setting their own goals and managing their own progress. It may also be more challenging to get feedback and support when needed, especially for complex or technical topics in machine learning.\n",
    "\n",
    "Overall, the choice of studying under supervision or without supervision in machine learning will depend on the learner's goals, interests, and learning style. Both approaches have their own strengths and weaknesses, and it is up to the learner to choose the one that best suits their needs."
   ]
  },
  {
   "cell_type": "markdown",
   "id": "457e5317",
   "metadata": {},
   "source": [
    "#### (iv) Reinforcement learning is a type of machine learning that is based on learning from positive reinforcement. In reinforcement learning, an agent learns to interact with an environment in order to achieve a goal, with the environment providing feedback in the form of rewards or punishments for different actions taken by the agent.\n",
    "\n",
    "The goal of the agent in reinforcement learning is to learn a policy that maximizes the expected reward over time. This is achieved by the agent taking actions based on the current state of the environment, receiving feedback in the form of rewards or punishments, and updating its policy accordingly. Over time, the agent learns to take actions that lead to higher rewards and avoid actions that lead to lower rewards.\n",
    "\n",
    "Reinforcement learning has been used in a variety of applications, including game playing, robotics, and control systems. One of the advantages of reinforcement learning is that it can learn to perform complex tasks in dynamic environments without explicitly programming the desired behavior. However, reinforcement learning can also be challenging to implement, as it requires careful selection of the reward function and other parameters, as well as extensive training and testing.\n",
    "\n",
    "Overall, reinforcement learning is a powerful approach to machine learning that can enable agents to learn from experience and improve their performance over time through positive reinforcement."
   ]
  },
  {
   "cell_type": "code",
   "execution_count": null,
   "id": "39101508",
   "metadata": {},
   "outputs": [],
   "source": []
  }
 ],
 "metadata": {
  "kernelspec": {
   "display_name": "Python 3 (ipykernel)",
   "language": "python",
   "name": "python3"
  },
  "language_info": {
   "codemirror_mode": {
    "name": "ipython",
    "version": 3
   },
   "file_extension": ".py",
   "mimetype": "text/x-python",
   "name": "python",
   "nbconvert_exporter": "python",
   "pygments_lexer": "ipython3",
   "version": "3.9.13"
  }
 },
 "nbformat": 4,
 "nbformat_minor": 5
}
