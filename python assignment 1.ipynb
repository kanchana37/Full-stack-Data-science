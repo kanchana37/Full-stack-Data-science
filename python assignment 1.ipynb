{
 "cells": [
  {
   "cell_type": "code",
   "execution_count": null,
   "id": "ee9cbba6",
   "metadata": {},
   "outputs": [],
   "source": [
    "# Q1.In the below elements which of them are values or an expression?\n",
    "Ans 1.\n",
    "* - expression\n",
    "'hello' - value(string)\n",
    "-87.8 - value(integer)\n",
    "- - expression\n",
    "/ - expression\n",
    "+ - expression\n",
    "6 - value(integer)"
   ]
  },
  {
   "cell_type": "code",
   "execution_count": null,
   "id": "10d85779",
   "metadata": {},
   "outputs": [],
   "source": [
    "# Q2.What is the difference between string and variable?\n",
    "Ans 2.\n",
    "#STRINGS\n",
    "It is a combination of characters. Strings can be created by enclosing characters inside a single quote or double-quotes.\n",
    "\n",
    "# defining strings in Python\n",
    "\n",
    "my_string = 'Hello' \n",
    "print(my_string)\n",
    "\n",
    "#VARIABLES\n",
    "A Python variable is a reserved memory location that helps to store values.\n",
    "\n",
    "#Defining variable in Python \n",
    "a=10\n",
    "print(a) # declaring it as “a” and printing it.\n"
   ]
  },
  {
   "cell_type": "code",
   "execution_count": null,
   "id": "0c4783f6",
   "metadata": {},
   "outputs": [],
   "source": [
    "#Q3. Describe three different data types.\n",
    "Ans 3.\n",
    "The three different types of data types are:\n",
    "1)Numeric \n",
    "2)sequencial\n",
    "3)boolean\n",
    "\n",
    "1)#Numeric\n",
    "In Python, numeric data type represent the data which has numeric value. Numeric value can be integer, floating number or even complex numbers. \n",
    "\n",
    "  #a)Integers\n",
    "     It stores the integers values that can be positive or negative and do not contain any decimal point.\n",
    "\n",
    "  #b)float\n",
    "     These are floating-point real numbers that stores the decimal values. It consists of integer and fraction parts.\n",
    "\n",
    "  #c)complex\n",
    "     These are complex numbers specified as a real part and an imaginary part.\n",
    "\n",
    "#An Example\n",
    "#python program to determine the type of numeric data type.\n",
    "a = 6\n",
    "print(\"Type of a: \", type(a)) #integer\n",
    "  \n",
    "b = 5.0\n",
    "print(\"Type of b: \", type(b)) #float\n",
    "  \n",
    "c = 2 + 4j\n",
    "print(\"Type of c: \", type(c)) #complex     \n",
    "\n",
    "2)#sequence type\n",
    "In Python, sequence is the ordered collection of similar or different data types. Sequences allows to store multiple values in an organized and efficient fashion. There are several sequence types in Python –\n",
    "String, List and Tuple.\n",
    "\n",
    "   #a)string\n",
    "     In Python, Strings are arrays of bytes representing Unicode characters. A string is a collection of one or more characters put in a single quote, double-quote or triple quote. \n",
    "    \n",
    "   #b)List\n",
    "     Lists are just like the arrays, declared in other languages which is a ordered collection of data.Lists in Python can be created by just placing the sequence inside the square brackets[].\n",
    "\n",
    "   #c)Tuple\n",
    "     A tuple is a collection of objects which are ordered and immutable. Tuples are written with round brackets.\n",
    "\n",
    "#An example\n",
    "#python program to determine the type of sequence data type.\n",
    "my_string=\"hello world\"\n",
    "my_list=['fruits',(7j+8),412.6,True]\n",
    "my_tuple=((0, 1, 2, 3),'python',False,(9+8j))\n",
    "\n",
    "print(my_list)\n",
    "print(my_tuple)\n",
    "print(my_string)\n",
    "\n",
    "3)#Boolean\n",
    "Python boolean type is one of the built-in data types provided by Python, which represents one of the two values i.e. True or False.\n",
    "\n",
    "The syntax of function bool() is:\n",
    "\n",
    "bool([value])\n",
    "\n"
   ]
  },
  {
   "cell_type": "code",
   "execution_count": null,
   "id": "2db5cdc1",
   "metadata": {},
   "outputs": [],
   "source": [
    "#Q4.What is an expression made up of? What do all expressions do?\n",
    "Ans 4.An expression is a combination of values, variables, and operators. If you type an expression on the command line, the interpreter evaluates it and displays the result.In short,An expression is a combination of operators and operands that is interpreted to produce some other value.\n",
    "\n",
    "Example: #An expression is any sequence of literals (strings, numbers, lists, sets, tuples), objects, function calls, identifiers combined with a variety of operators which results in a value\n",
    "x = 3*(5+7) \n",
    "y = len(\"hello\") \n",
    "z= [4,6,9,8]\n",
    "\n",
    "#Evaluating the result and displaying it by giving the print command\n",
    "print(x)\n",
    "print(y)\n",
    "print(z)\n"
   ]
  },
  {
   "cell_type": "code",
   "execution_count": null,
   "id": "f2ab960f",
   "metadata": {},
   "outputs": [],
   "source": [
    "#Q5. This assignment statements, like spam = 10. What is the difference between an expression and a statement?\n",
    "Ans 5.\n",
    "#statement \n",
    "#An action or a command that does something. Eg,else,loop etc\n",
    "A statement is an instruction that the Python interpreter can execute. It can produce the result in the case of print statement and nort in case of assignment statements.\n",
    "\n",
    "#expression \n",
    "#A representation of value\n",
    "Expression is a combination of values, variables, and operators that is meant to be evaluated and is designated to yield a result value."
   ]
  },
  {
   "cell_type": "code",
   "execution_count": 3,
   "id": "3b0fe2c3",
   "metadata": {},
   "outputs": [
    {
     "data": {
      "text/plain": [
       "22"
      ]
     },
     "execution_count": 3,
     "metadata": {},
     "output_type": "execute_result"
    }
   ],
   "source": [
    "#Q6. After running the following code, what does the variable bacon contain?\n",
    "bacon = 22\n",
    "bacon+ 1\n",
    "\n",
    "ANS 6.The value of variable bacon remains same 22"
   ]
  },
  {
   "cell_type": "code",
   "execution_count": 3,
   "id": "e600926f",
   "metadata": {},
   "outputs": [
    {
     "data": {
      "text/plain": [
       "'spamspamspam'"
      ]
     },
     "execution_count": 3,
     "metadata": {},
     "output_type": "execute_result"
    }
   ],
   "source": [
    "#Q7. What should the values of the following two terms be?\n",
    "'spam' + 'spamspam'\n",
    "'spam' * 3\n",
    "\n",
    "Ans 7. Both will result in 'spamspamspam'"
   ]
  },
  {
   "cell_type": "code",
   "execution_count": null,
   "id": "91a8ec5f",
   "metadata": {},
   "outputs": [],
   "source": [
    "#Q8.Why is eggs a valid variable name while 100 is invalid?\n",
    "Ans 8.Variable names cannot begin with a number."
   ]
  },
  {
   "cell_type": "code",
   "execution_count": null,
   "id": "f7dc6843",
   "metadata": {},
   "outputs": [],
   "source": [
    "#Q9. What three functions can be used to get the integer, floating-point number, or string version of a value?\n",
    "Ans 9.\n",
    "integer- int()\n",
    "floating point number- float()\n",
    "string -str()"
   ]
  },
  {
   "cell_type": "code",
   "execution_count": null,
   "id": "01c0264a",
   "metadata": {},
   "outputs": [],
   "source": [
    "#Q10. Why does this expression cause an error? How can you fix it?\n",
    "Ans 10.This expression is causing an error as it cannot concatenate strings and integers together. To fix this problem we can convert 99 which is an integer into string as only strings can be concatenated to other strings with a '+'operator. So,the correct way is:\n",
    "'I have eaten' + str(99) + 'burritos'"
   ]
  },
  {
   "cell_type": "code",
   "execution_count": null,
   "id": "3979dd1e",
   "metadata": {},
   "outputs": [],
   "source": [
    "#End of the assignment\n"
   ]
  }
 ],
 "metadata": {
  "kernelspec": {
   "display_name": "Python 3",
   "language": "python",
   "name": "python3"
  },
  "language_info": {
   "codemirror_mode": {
    "name": "ipython",
    "version": 3
   },
   "file_extension": ".py",
   "mimetype": "text/x-python",
   "name": "python",
   "nbconvert_exporter": "python",
   "pygments_lexer": "ipython3",
   "version": "3.8.8"
  }
 },
 "nbformat": 4,
 "nbformat_minor": 5
}
