{
 "cells": [
  {
   "cell_type": "markdown",
   "id": "b658c60d",
   "metadata": {},
   "source": [
    "# Python Basic Assignment-4"
   ]
  },
  {
   "cell_type": "markdown",
   "id": "904598bb",
   "metadata": {},
   "source": [
    "### Q1. What exactly is []?"
   ]
  },
  {
   "cell_type": "markdown",
   "id": "402dc55f",
   "metadata": {},
   "source": [
    "Ans1. In programming, [] is typically used to denote an empty list or array which is a collection of values that can be indexed and iterated over."
   ]
  },
  {
   "cell_type": "markdown",
   "id": "9cee8fb6",
   "metadata": {},
   "source": [
    "### Q2. In a list of values stored in a variable called spam, how would you assign the value 'hello' as the third value? (Assume [2, 4, 6, 8, 10] are in spam.)"
   ]
  },
  {
   "cell_type": "markdown",
   "id": "e094f41e",
   "metadata": {},
   "source": [
    "Ans2. To assign the value 'hello' as the third value in the list stored in the variable spam, you can use the index notation and assign the value to the list at index 2, like this:\n"
   ]
  },
  {
   "cell_type": "code",
   "execution_count": 2,
   "id": "8e0869c1",
   "metadata": {},
   "outputs": [
    {
     "data": {
      "text/plain": [
       "[2, 4, 'hello', 8, 10]"
      ]
     },
     "execution_count": 2,
     "metadata": {},
     "output_type": "execute_result"
    }
   ],
   "source": [
    "spam = [2, 4, 6, 8, 10]   # the original list\n",
    "spam[2] = 'hello'         # assign 'hello' as the third value\n",
    "spam"
   ]
  },
  {
   "cell_type": "markdown",
   "id": "bb7b166f",
   "metadata": {},
   "source": [
    "###  Let's pretend the spam includes the list ['a', 'b', 'c', 'd'] for the next three queries.\n"
   ]
  },
  {
   "cell_type": "code",
   "execution_count": 5,
   "id": "21e6d4ab",
   "metadata": {},
   "outputs": [
    {
     "data": {
      "text/plain": [
       "['a', 'b', 'c', 'd']"
      ]
     },
     "execution_count": 5,
     "metadata": {},
     "output_type": "execute_result"
    }
   ],
   "source": [
    "spam =['a','b','c','d']\n",
    "spam"
   ]
  },
  {
   "cell_type": "markdown",
   "id": "cac2d9ef",
   "metadata": {},
   "source": [
    "### Q3.What is the value of spam[int(int('3' * 2) / 11)]?"
   ]
  },
  {
   "cell_type": "code",
   "execution_count": 6,
   "id": "a8694e68",
   "metadata": {},
   "outputs": [
    {
     "data": {
      "text/plain": [
       "'d'"
      ]
     },
     "execution_count": 6,
     "metadata": {},
     "output_type": "execute_result"
    }
   ],
   "source": [
    "#Ans 3\n",
    "spam[int(int('3' * 2) / 11)]"
   ]
  },
  {
   "cell_type": "markdown",
   "id": "e34de92c",
   "metadata": {},
   "source": [
    "### Q4. What is the value of spam[-1]?"
   ]
  },
  {
   "cell_type": "code",
   "execution_count": 9,
   "id": "bc24dd53",
   "metadata": {},
   "outputs": [
    {
     "data": {
      "text/plain": [
       "'d'"
      ]
     },
     "execution_count": 9,
     "metadata": {},
     "output_type": "execute_result"
    }
   ],
   "source": [
    "#Ans 4\n",
    "spam[-1]"
   ]
  },
  {
   "cell_type": "markdown",
   "id": "0e4c3f83",
   "metadata": {},
   "source": [
    "### Q5. What is the value of spam[:2]?"
   ]
  },
  {
   "cell_type": "code",
   "execution_count": 10,
   "id": "58cc1882",
   "metadata": {},
   "outputs": [
    {
     "data": {
      "text/plain": [
       "['a', 'b']"
      ]
     },
     "execution_count": 10,
     "metadata": {},
     "output_type": "execute_result"
    }
   ],
   "source": [
    "#Ans 5\n",
    "spam[:2]"
   ]
  },
  {
   "cell_type": "markdown",
   "id": "127a5f12",
   "metadata": {},
   "source": [
    "### Let's pretend bacon has the list [3.14, 'cat,' 11, 'cat,' True] for the next three questions.\n"
   ]
  },
  {
   "cell_type": "code",
   "execution_count": 16,
   "id": "8bd30cf7",
   "metadata": {},
   "outputs": [
    {
     "data": {
      "text/plain": [
       "[3.14, 'cat', 11, 'cat', True]"
      ]
     },
     "execution_count": 16,
     "metadata": {},
     "output_type": "execute_result"
    }
   ],
   "source": [
    "bacon= [3.14, 'cat', 11, 'cat', True] \n",
    "bacon"
   ]
  },
  {
   "cell_type": "markdown",
   "id": "24eb7a82",
   "metadata": {},
   "source": [
    "### Q6. What is the value of bacon.index('cat')?"
   ]
  },
  {
   "cell_type": "code",
   "execution_count": 14,
   "id": "03d45f7d",
   "metadata": {},
   "outputs": [
    {
     "data": {
      "text/plain": [
       "1"
      ]
     },
     "execution_count": 14,
     "metadata": {},
     "output_type": "execute_result"
    }
   ],
   "source": [
    "#Ans6\n",
    "bacon.index('cat')"
   ]
  },
  {
   "cell_type": "markdown",
   "id": "e3e62699",
   "metadata": {},
   "source": [
    "### Q7. How does bacon.append(99) change the look of the list value in bacon?"
   ]
  },
  {
   "cell_type": "code",
   "execution_count": 20,
   "id": "e8827357",
   "metadata": {},
   "outputs": [
    {
     "data": {
      "text/plain": [
       "[3.14, 'cat', 11, 'cat', True, 99]"
      ]
     },
     "execution_count": 20,
     "metadata": {},
     "output_type": "execute_result"
    }
   ],
   "source": [
    "#Ans 7. bacon.append(99) adds 99 to the end of the list 'bacon' \n",
    "bacon.append(99)\n",
    "bacon"
   ]
  },
  {
   "cell_type": "markdown",
   "id": "90171171",
   "metadata": {},
   "source": [
    "### Q8.How does bacon.remove('cat') change the look of the list in bacon?"
   ]
  },
  {
   "cell_type": "code",
   "execution_count": 21,
   "id": "748e457f",
   "metadata": {},
   "outputs": [
    {
     "data": {
      "text/plain": [
       "[3.14, 11, 'cat', True, 99]"
      ]
     },
     "execution_count": 21,
     "metadata": {},
     "output_type": "execute_result"
    }
   ],
   "source": [
    "#Ans 8. bacon.remove('cat') removes cat from the list 'bacon'\n",
    "bacon.remove('cat')\n",
    "bacon"
   ]
  },
  {
   "cell_type": "markdown",
   "id": "257fe414",
   "metadata": {},
   "source": [
    "### Q9. What are the list concatenation and list replication operators?"
   ]
  },
  {
   "cell_type": "markdown",
   "id": "5abdde7d",
   "metadata": {},
   "source": [
    "Ans 9. In Python, the list concatenation operator is +, which is used to concatenate two or more lists into a new list. When you use the + operator on two or more lists, a new list is created that contains all the elements of the original lists in the order they were concatenated.\n",
    "\n",
    "Here is an example of list concatenation:"
   ]
  },
  {
   "cell_type": "code",
   "execution_count": 22,
   "id": "4552a118",
   "metadata": {},
   "outputs": [
    {
     "name": "stdout",
     "output_type": "stream",
     "text": [
      "[1, 2, 3, 4, 5, 6]\n"
     ]
    }
   ],
   "source": [
    "list1 = [1, 2, 3]\n",
    "list2 = [4, 5, 6]\n",
    "concatenated_list = list1 + list2\n",
    "print(concatenated_list) "
   ]
  },
  {
   "cell_type": "markdown",
   "id": "44ec5ecc",
   "metadata": {},
   "source": [
    "The list replication operator is *, which is used to create a new list that contains multiple copies of an existing list. When you use the * operator on a list and an integer value, a new list is created that contains the original list repeated the specified number of times.\n",
    "\n",
    "Here is an example of list replication:"
   ]
  },
  {
   "cell_type": "code",
   "execution_count": 23,
   "id": "b884da75",
   "metadata": {},
   "outputs": [
    {
     "name": "stdout",
     "output_type": "stream",
     "text": [
      "[1, 2, 3, 1, 2, 3, 1, 2, 3]\n"
     ]
    }
   ],
   "source": [
    "list1 = [1, 2, 3]\n",
    "replicated_list = list1 * 3\n",
    "print(replicated_list)  "
   ]
  },
  {
   "cell_type": "markdown",
   "id": "57e5610b",
   "metadata": {},
   "source": [
    "### Q10. What is difference between the list methods append() and insert()?"
   ]
  },
  {
   "cell_type": "markdown",
   "id": "a42b928f",
   "metadata": {},
   "source": [
    "Ans 10. The append() method adds a new element to the end of the list. It takes one argument, which is the value of the new element to be added to the end of the list. The original list is modified in place.\n",
    "\n",
    "Here's an example of using append():"
   ]
  },
  {
   "cell_type": "code",
   "execution_count": 24,
   "id": "804d648f",
   "metadata": {},
   "outputs": [
    {
     "name": "stdout",
     "output_type": "stream",
     "text": [
      "[1, 2, 3, 4]\n"
     ]
    }
   ],
   "source": [
    "my_list = [1, 2, 3]\n",
    "my_list.append(4)\n",
    "print(my_list) #As an output, 4 will be added at the end of the my_list"
   ]
  },
  {
   "cell_type": "markdown",
   "id": "3f838613",
   "metadata": {},
   "source": [
    "The insert() method adds a new element to a specific index in the list. It takes two arguments: the first argument is the index where the new element should be inserted, and the second argument is the value of the new element to be inserted. The original list is modified in place.\n",
    "\n",
    "Here's an example of using insert():"
   ]
  },
  {
   "cell_type": "code",
   "execution_count": 25,
   "id": "0ce6c004",
   "metadata": {},
   "outputs": [
    {
     "name": "stdout",
     "output_type": "stream",
     "text": [
      "[1, 4, 2, 3]\n"
     ]
    }
   ],
   "source": [
    "my_list = [1, 2, 3]\n",
    "my_list.insert(1, 4)\n",
    "print(my_list)  #As an output, the value 4 will be inserted at index 1 in the my_list."
   ]
  },
  {
   "cell_type": "markdown",
   "id": "6aae0a19",
   "metadata": {},
   "source": [
    "### Q11. What are the two methods for removing items from a list?"
   ]
  },
  {
   "cell_type": "markdown",
   "id": "9c1756b1",
   "metadata": {},
   "source": [
    "Ans 11. In Python, there are two methods for removing items from a list:\n",
    "\n",
    "1. remove(): This method removes the first occurrence of a specified element from the list. It takes one argument, which is the value of the element to be removed. \n",
    "2. pop(): This method removes an element from the list at a specified index, and returns the removed element. If no index is specified, it removes and returns the last element of the list."
   ]
  },
  {
   "cell_type": "markdown",
   "id": "f4d64026",
   "metadata": {},
   "source": [
    "### Q12.Describe how list values and string values are identical."
   ]
  },
  {
   "cell_type": "markdown",
   "id": "a01cad19",
   "metadata": {},
   "source": [
    "Ans 12. In Python, both lists and strings are ordered sequences of values. They share several similarities:\n",
    "1. Indexing: Both lists and strings can be accessed using index numbers. In Python, index numbers start from 0.\n",
    "2. Slicing: Both lists and strings can be sliced to extract a portion of the sequence. Slicing returns a new sequence.\n",
    "3. Concatenation: Both lists and strings can be concatenated using the + operator. Concatenation returns a new sequence.\n",
    "4. Replication: Both lists and strings can be replicated using the * operator. Replication returns a new sequence that is a repetition of the original sequence."
   ]
  },
  {
   "cell_type": "markdown",
   "id": "3268801a",
   "metadata": {},
   "source": [
    "### Q13.  What's the difference between tuples and lists?"
   ]
  },
  {
   "cell_type": "markdown",
   "id": "4373a58d",
   "metadata": {},
   "source": [
    "Ans 13. In Python, lists and tuples are both ordered sequences of elements. However, there are some differences between them:\n",
    "1. Mutability: Lists are mutable, which means that their elements can be changed after they are created, whereas tuples are immutable, which means that their elements cannot be changed once they are assigned.\n",
    "\n",
    "2. Syntax: Lists are defined using square brackets [ ], while tuples are defined using parentheses ( ). For example:\n",
    "my_list = [1, 2, 3, 4] ,  my_tuple = (1, 2, 3, 4)\n",
    "\n",
    "3. Methods: Lists have many built-in methods, such as append(), insert(), and remove(), which allow for manipulation of their elements. Tuples have fewer methods, and none of them modify the tuple in place.\n",
    "\n",
    "4. Performance: Tuples are generally more performant than lists, as they are simpler and smaller in size. This can make a difference in memory usage and processing time, especially for large collections of data.\n",
    "\n",
    "5. Usage: Lists are typically used for collections of data that need to be modified, while tuples are used for collections of data that should remain constant. For example, if you have a set of values that will not change, such as the coordinates of a point in space, you might use a tuple to store them. If you have a list of items that will be added to or removed from, such as a list of items in a shopping cart, you would use a list to store them.\n",
    "\n",
    "Overall, the choice between using a list or tuple depends on the specific requirements of your program. If you need a collection of elements that can be modified, use a list. If you need a collection of elements that should not be modified, use a tuple.\n",
    "\n",
    "\n",
    "\n",
    "\n"
   ]
  },
  {
   "cell_type": "markdown",
   "id": "3d641d2c",
   "metadata": {},
   "source": [
    "### Q14. How do you type a tuple value that only contains the integer 42?"
   ]
  },
  {
   "cell_type": "markdown",
   "id": "8f2a6f58",
   "metadata": {},
   "source": [
    "Ans 14. To create a tuple that only contains the integer 42, you can use parentheses to enclose the value:\n",
    "my_tuple = (42,)\n",
    "\n",
    "Note: The comma after the value is necessary to distinguish a tuple from a simple integer in parentheses. Without the comma, Python would interpret the value as an integer expression in parentheses rather than a tuple."
   ]
  },
  {
   "cell_type": "markdown",
   "id": "23bf8487",
   "metadata": {},
   "source": [
    "###  Q15. How do you get a list value's tuple form? How do you get a tuple value's list form?"
   ]
  },
  {
   "cell_type": "code",
   "execution_count": 26,
   "id": "1969e54e",
   "metadata": {},
   "outputs": [
    {
     "name": "stdout",
     "output_type": "stream",
     "text": [
      "(1, 2, 3, 4)\n"
     ]
    }
   ],
   "source": [
    "#To get a list value's tuple form, you can use the tuple() function. For example:\n",
    "my_list = [1, 2, 3, 4]\n",
    "my_tuple = tuple(my_list)\n",
    "print(my_tuple)\n",
    "\n",
    "#This creates a new tuple with the same elements as the original list."
   ]
  },
  {
   "cell_type": "code",
   "execution_count": 27,
   "id": "8ae9464e",
   "metadata": {},
   "outputs": [
    {
     "name": "stdout",
     "output_type": "stream",
     "text": [
      "[1, 2, 3, 4]\n"
     ]
    }
   ],
   "source": [
    "#To get a tuple value's list form, you can use the list() function. For example:\n",
    "my_tuple = (1, 2, 3, 4)\n",
    "my_list = list(my_tuple)\n",
    "print(my_list)  \n",
    "\n",
    "#This creates a new list with the same elements as the original tuple."
   ]
  },
  {
   "cell_type": "markdown",
   "id": "830b2fd5",
   "metadata": {},
   "source": [
    "### Q16. Variables that \"contain\" list values are not necessarily lists themselves. Instead, what do they contain?\n"
   ]
  },
  {
   "cell_type": "markdown",
   "id": "7c1b9f22",
   "metadata": {},
   "source": [
    "Ans 16. Variables that \"contain\" list values in Python actually contain a reference to the list object in memory, rather than the list itself. When you create a list and assign it to a variable, the variable simply points to the location in memory where the list is stored.\n",
    "\n",
    "For example, consider the following code:\n",
    "\n",
    "my_list = [1, 2, 3, 4]\n",
    "\n",
    "In this case, my_list is a variable that contains a reference to a list object in memory that contains the values [1, 2, 3, 4]. "
   ]
  },
  {
   "cell_type": "markdown",
   "id": "93167980",
   "metadata": {},
   "source": [
    "### Q17. How do you distinguish between copy.copy() and copy.deepcopy()?"
   ]
  },
  {
   "cell_type": "markdown",
   "id": "a1f34d17",
   "metadata": {},
   "source": [
    "Ans 17. In Python's copy module, copy.copy() and copy.deepcopy() are used to create copies of objects, but they differ in how they handle nested objects.\n",
    "\n",
    "1. copy.copy() creates a shallow copy of an object, which means that it creates a new object with a new memory location, but the contents of the object itself (i.e., the references to other objects it contains) are still references to the same objects in memory as the original. This means that changes to nested objects will be reflected in both the original and the copied object.\n",
    "\n",
    "2. copy.deepcopy() creates a deep copy of an object, which means that it creates a new object with a new memory location, and recursively copies all nested objects as well. This means that changes to nested objects will not be reflected in the original object or other copies."
   ]
  },
  {
   "cell_type": "code",
   "execution_count": 8,
   "id": "44e51f0a",
   "metadata": {},
   "outputs": [
    {
     "name": "stdout",
     "output_type": "stream",
     "text": [
      "[[5, 2], [3, 4]]\n",
      "id of my_list: 1589014597120\n",
      "[[5, 2], [3, 4]]\n",
      "id of shallow_copy: 1589014577408\n",
      "[[1, 2], [3, 4]]\n",
      "id of deep_copy: 1589014607168\n"
     ]
    }
   ],
   "source": [
    "#For example, consider the following code:\n",
    "\n",
    "import copy\n",
    "\n",
    "my_list = [[1, 2], [3, 4]]\n",
    "shallow_copy = copy.copy(my_list)\n",
    "deep_copy = copy.deepcopy(my_list)\n",
    "\n",
    "# Modify the first nested list in the original list\n",
    "my_list[0][0] = 5\n",
    "\n",
    "# Print the original list ,both copies and their id's\n",
    "\n",
    "print(my_list)     \n",
    "print('id of my_list:', id(my_list))\n",
    "\n",
    "print(shallow_copy) \n",
    "print('id of shallow_copy:', id(shallow_copy))\n",
    "\n",
    "print(deep_copy)     \n",
    "print('id of deep_copy:', id(deep_copy))\n"
   ]
  },
  {
   "cell_type": "markdown",
   "id": "21565bdc",
   "metadata": {},
   "source": [
    "In this example, copy.copy() created a shallow copy of my_list, so modifying the first nested list in the original list also affected the copy . Here, the id of the shallow copy will be different from my_list but the ids of their nested objects will have the same reference.  on the other hand,copy.deepcopy() created a deep copy of my_list, so modifying the original list did not affect the deep copy as a new object is created with a new memory address in memory.It recursively copies all nested objects as well. So both the ids of the object and its nested objects will be different from the original."
   ]
  },
  {
   "cell_type": "code",
   "execution_count": null,
   "id": "54c452df",
   "metadata": {},
   "outputs": [],
   "source": []
  }
 ],
 "metadata": {
  "kernelspec": {
   "display_name": "Python 3 (ipykernel)",
   "language": "python",
   "name": "python3"
  },
  "language_info": {
   "codemirror_mode": {
    "name": "ipython",
    "version": 3
   },
   "file_extension": ".py",
   "mimetype": "text/x-python",
   "name": "python",
   "nbconvert_exporter": "python",
   "pygments_lexer": "ipython3",
   "version": "3.9.13"
  }
 },
 "nbformat": 4,
 "nbformat_minor": 5
}
