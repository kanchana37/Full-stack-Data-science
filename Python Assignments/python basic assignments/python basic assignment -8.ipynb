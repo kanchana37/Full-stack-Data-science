{
 "cells": [
  {
   "cell_type": "markdown",
   "id": "e7dcdddb",
   "metadata": {},
   "source": [
    "## Python Basic Assignment -8 "
   ]
  },
  {
   "cell_type": "markdown",
   "id": "77eff77a",
   "metadata": {},
   "source": [
    "### Q1. Is the Python Standard Library included with PyInputPlus?"
   ]
  },
  {
   "cell_type": "markdown",
   "id": "bb7294ed",
   "metadata": {},
   "source": [
    "Ans 1. No, the Python Standard Library is not included with PyInputPlus. PyInputPlus is a third-party library for Python that provides additional features for taking user input, such as input validation, timeout handling, and automatic retrying. However, PyInputPlus does rely on some modules from the Python Standard Library, such as re (regular expressions), time (time-related functions), and sys (system-specific parameters and functions), so those modules must be available for PyInputPlus to function properly."
   ]
  },
  {
   "cell_type": "markdown",
   "id": "73a8fdda",
   "metadata": {},
   "source": [
    "### Q2. Why is PyInputPlus commonly imported with import pyinputplus as pypi?"
   ]
  },
  {
   "cell_type": "markdown",
   "id": "ef2a2f55",
   "metadata": {},
   "source": [
    "Ans 2. PyInputPlus is commonly imported with the alias pypi (or sometimes pyip) to make it easier and quicker to reference the library in code. The import statement is used to bring a module or library into a Python program, and the aliasing feature allows us to specify a shorter or more convenient name to use instead of the full library name.\n",
    "\n",
    "For example, instead of typing import pyinputplus each time we want to use PyInputPlus functions, we can use import pyinputplus as pypi to create an alias for the library that is shorter and easier to type. Then, when we want to use a function from PyInputPlus, we can simply write pypi.function_name() instead of pyinputplus.function_name(), which can save time and improve code readability"
   ]
  },
  {
   "cell_type": "markdown",
   "id": "c066a188",
   "metadata": {},
   "source": [
    "### Q3. How do you distinguish between inputInt() and inputFloat()?"
   ]
  },
  {
   "cell_type": "markdown",
   "id": "55c7fa54",
   "metadata": {},
   "source": [
    "Ans 3. inputInt() and inputFloat() are both functions provided by the PyInputPlus library for taking user input, but they differ in the type of input they expect and return.\n",
    "\n",
    "The inputInt() function expects the user to enter an integer value and will return an integer value, while the inputFloat() function expects the user to enter a floating-point value and will return a floating-point value.\n",
    "\n",
    "For example, if we use inputInt() to get input from the user and the user enters the value 42, the function will return the integer 42. However, if we use inputFloat() to get input from the user and the user enters the value 3.14, the function will return the floating-point value 3.14."
   ]
  },
  {
   "cell_type": "markdown",
   "id": "2d8e5e31",
   "metadata": {},
   "source": [
    "### Q4. Using PyInputPlus, how do you ensure that the user enters a whole number between 0 and 99?"
   ]
  },
  {
   "cell_type": "markdown",
   "id": "cba419b2",
   "metadata": {},
   "source": [
    "Ans 4. To ensure that the user enters a whole number between 0 and 99 using PyInputPlus, we can use the inputInt() function with some additional parameters to specify the allowed range.\n",
    "\n",
    "Here is an example code snippet that uses PyInputPlus to ensure that the user enters a whole number between 0 and 99:"
   ]
  },
  {
   "cell_type": "code",
   "execution_count": null,
   "id": "26294c82",
   "metadata": {},
   "outputs": [],
   "source": [
    "import pyinputplus as pypi\n",
    "\n",
    "# Prompt the user to enter a number between 0 and 99\n",
    "number = pypi.inputInt(prompt='Enter a whole number between 0 and 99: ',\n",
    "                       min=0, max=99, inclusive=True,\n",
    "                       error='Please enter a valid whole number between 0 and 99.\\n')\n",
    "\n",
    "# Print the user's input\n",
    "print('You entered:', number)"
   ]
  },
  {
   "cell_type": "markdown",
   "id": "a21d2d9d",
   "metadata": {},
   "source": [
    "Here, if the user enters a valid input, the code will print the entered number. Otherwise, it will prompt the user again until a valid input is provided."
   ]
  },
  {
   "cell_type": "markdown",
   "id": "7cd218b6",
   "metadata": {},
   "source": [
    "### Q5. What is transferred to the keyword arguments allowRegexes and blockRegexes?"
   ]
  },
  {
   "cell_type": "markdown",
   "id": "6da6d863",
   "metadata": {},
   "source": [
    "Ans 5. In PyInputPlus, the allowRegexes and blockRegexes keyword arguments can be used to specify regular expressions that are allowed or blocked in user input, respectively.\n",
    "\n",
    "1. The allowRegexes argument takes a list of regular expressions as input. If the user's input matches any of the regular expressions in the list, it will be accepted. \n",
    "2.  The blockRegexes argument also takes a list of regular expressions as input. If the user's input matches any of the regular expressions in the list, it will be rejected. "
   ]
  },
  {
   "cell_type": "markdown",
   "id": "ac3a5a53",
   "metadata": {},
   "source": [
    "### Q6.If a blank input is entered three times, what does inputStr(limit=3) do?"
   ]
  },
  {
   "cell_type": "markdown",
   "id": "2d05595a",
   "metadata": {},
   "source": [
    "Ans 6. If a blank input is entered three times while using the inputStr(limit=3) function in PyInputPlus, it will raise a pyinputplus.RetryLimitException exception after the third attempt.\n",
    "\n",
    "The limit parameter in inputStr(limit=3) specifies the maximum number of retries allowed before raising a pyinputplus.RetryLimitException exception. "
   ]
  },
  {
   "cell_type": "markdown",
   "id": "8722b031",
   "metadata": {},
   "source": [
    "### Q7. If blank input is entered three times, what does inputStr(limit=3, default=&#39;hello&#39;) do?"
   ]
  },
  {
   "cell_type": "markdown",
   "id": "3b789a19",
   "metadata": {},
   "source": [
    "Ans 7. If blank input is entered three times while using the inputStr(limit=3, default='hello') function in PyInputPlus, the function will return the default value of 'hello' after the third attempt.\n",
    "\n",
    "The limit parameter in inputStr(limit=3, default='hello') specifies the maximum number of retries allowed before returning the default value. The default parameter specifies the default value to return if the user does not input anything."
   ]
  },
  {
   "cell_type": "code",
   "execution_count": null,
   "id": "e78390d3",
   "metadata": {},
   "outputs": [],
   "source": []
  }
 ],
 "metadata": {
  "kernelspec": {
   "display_name": "Python 3 (ipykernel)",
   "language": "python",
   "name": "python3"
  },
  "language_info": {
   "codemirror_mode": {
    "name": "ipython",
    "version": 3
   },
   "file_extension": ".py",
   "mimetype": "text/x-python",
   "name": "python",
   "nbconvert_exporter": "python",
   "pygments_lexer": "ipython3",
   "version": "3.9.13"
  }
 },
 "nbformat": 4,
 "nbformat_minor": 5
}
