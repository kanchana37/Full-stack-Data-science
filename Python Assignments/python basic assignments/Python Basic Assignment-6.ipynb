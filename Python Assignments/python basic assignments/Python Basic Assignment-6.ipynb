{
 "cells": [
  {
   "cell_type": "markdown",
   "id": "4905bf1c",
   "metadata": {},
   "source": [
    "## Python basic assignment-6"
   ]
  },
  {
   "cell_type": "markdown",
   "id": "ebb54bf3",
   "metadata": {},
   "source": [
    "### Q1.What are escape characters, and how do you use them?"
   ]
  },
  {
   "cell_type": "markdown",
   "id": "727a9898",
   "metadata": {},
   "source": [
    "Ans 1. Escape characters are special characters used in programming to represent characters that are difficult or impossible to type or display directly in code or in text strings. These characters are typically represented by a backslash (\\) followed by another character, and the combination is interpreted as a single character. Escape characters can also be used in regular expressions, where they have special meanings that modify the behavior of the expression.\n",
    "\n",
    "For example, the backslash followed by the letter n (\\n) is an escape sequence that represents a new line character. Similarly, the backslash followed by the letter t (\\t) represents a tab character, and the backslash followed by another backslash (\\\\) represents a single backslash. This can be explained in the following code:\n",
    "  "
   ]
  },
  {
   "cell_type": "code",
   "execution_count": 2,
   "id": "f06af6df",
   "metadata": {},
   "outputs": [
    {
     "name": "stdout",
     "output_type": "stream",
     "text": [
      "Hello\n",
      "world!\n",
      "Name:\tJohn\tAge:\t25\n",
      "C:\\Program Files\\Python\\\n"
     ]
    }
   ],
   "source": [
    "## example of escape \n",
    "#new line chraacter (\\n)\n",
    "print(\"Hello\\nworld!\")\n",
    "\n",
    "#tab character (\\t)\n",
    "print(\"Name:\\tJohn\\tAge:\\t25\")\n",
    "\n",
    "#backlash character (\\\\)\n",
    "print(\"C:\\\\Program Files\\\\Python\\\\\")"
   ]
  },
  {
   "cell_type": "markdown",
   "id": "0915a7eb",
   "metadata": {},
   "source": [
    "### Q2. What do the escape characters n and t stand for?"
   ]
  },
  {
   "cell_type": "markdown",
   "id": "aacaef02",
   "metadata": {},
   "source": [
    "Ans 2. The escape character \"\\n\" stands for a newline character, which is used to indicate the end of a line of text and to start a new one. When the \"\\n\" escape character is inserted into a string, it causes the text to be split into two lines, with the text after the escape character appearing on the next line.\n",
    "\n",
    "The escape character \"\\t\" stands for a horizontal tab character, which is used to insert a horizontal tab space into a string. When the \"\\t\" escape character is inserted into a string, it causes the text to be indented by a tab space, which is typically equivalent to a certain number of spaces depending on the application or environment being used. This is often used to align text in columns or to create a structured layout."
   ]
  },
  {
   "cell_type": "markdown",
   "id": "b10f33df",
   "metadata": {},
   "source": [
    "### Q3. What is the way to include backslash characters in a string?"
   ]
  },
  {
   "cell_type": "markdown",
   "id": "9c4813b1",
   "metadata": {},
   "source": [
    "Ans 3. To include a backslash character in a string in most programming languages, you can use an escape character before the backslash. This tells the interpreter or compiler to treat the backslash as a regular character, rather than as an escape character.\n",
    "For example, to include a backslash character in a string in Python, you would write \"\\\" (two backslashes in a row)."
   ]
  },
  {
   "cell_type": "code",
   "execution_count": 1,
   "id": "a082e0cb",
   "metadata": {},
   "outputs": [
    {
     "name": "stdout",
     "output_type": "stream",
     "text": [
      "This is a backslash: \\\n"
     ]
    }
   ],
   "source": [
    "#Here is an example:\n",
    "\n",
    "my_string = \"This is a backslash: \\\\\"\n",
    "print(my_string)"
   ]
  },
  {
   "cell_type": "markdown",
   "id": "a629303d",
   "metadata": {},
   "source": [
    "In some programming languages, you can also use a raw string literal, which treats all characters in the string as literal characters, including backslashes. In Python, you can create a raw string literal by prefixing the string with the letter \"r\". "
   ]
  },
  {
   "cell_type": "markdown",
   "id": "a292da4d",
   "metadata": {},
   "source": [
    "### Q4. The string \"Howl's Moving Castle\" is a correct value. Why isn't the single quote character in the word Howl's not escaped a problem?"
   ]
  },
  {
   "cell_type": "markdown",
   "id": "4b0ca54b",
   "metadata": {},
   "source": [
    "Ans 4. The string \"Howl's Moving Castle\" escaped the problem because it is wrapped inside double quotes. if its wrapped inside single quotes then we have to use escape character \\' to show single quote in the final output\n"
   ]
  },
  {
   "cell_type": "code",
   "execution_count": 11,
   "id": "87830b96",
   "metadata": {},
   "outputs": [
    {
     "data": {
      "text/plain": [
       "\"Howl's Moving Castle\""
      ]
     },
     "execution_count": 11,
     "metadata": {},
     "output_type": "execute_result"
    }
   ],
   "source": [
    "#here is an example:\n",
    "'Howl\\'s Moving Castle' "
   ]
  },
  {
   "cell_type": "markdown",
   "id": "9a1a5725",
   "metadata": {},
   "source": [
    "### Q5.How do you write a string of newlines if you don't want to use the n character?"
   ]
  },
  {
   "cell_type": "markdown",
   "id": "4bd52fdf",
   "metadata": {},
   "source": [
    "Ans 5. If you don't want to use the \"\\n\" escape character to represent newlines in a string, there are a few alternative ways to achieve the same result.\n",
    "One way is when you print multiple statements in python, by default they print statements across multiple lines.\n"
   ]
  },
  {
   "cell_type": "code",
   "execution_count": 12,
   "id": "4365ea22",
   "metadata": {},
   "outputs": [
    {
     "name": "stdout",
     "output_type": "stream",
     "text": [
      "Hello!\n",
      "welcome to ineuron\n"
     ]
    }
   ],
   "source": [
    "#here is an example:\n",
    "\n",
    "print (\"Hello!\")\n",
    "print(\"welcome to ineuron\")\n",
    "# it will print across multiple lines"
   ]
  },
  {
   "cell_type": "markdown",
   "id": "e1054de8",
   "metadata": {},
   "source": [
    "Another way in which we can print across multiple lines is to use Multiline string. multiline strings allow you to use line breaks in string without explicitly declaring them. They are represented by triple single quotes or double triple quotes."
   ]
  },
  {
   "cell_type": "code",
   "execution_count": 13,
   "id": "f9146133",
   "metadata": {},
   "outputs": [
    {
     "name": "stdout",
     "output_type": "stream",
     "text": [
      "Hello!\n",
      "welcome to ineuron\n"
     ]
    }
   ],
   "source": [
    "#Here is an example:\n",
    "string = \"\"\"Hello!\n",
    "welcome to ineuron\"\"\"\n",
    "\n",
    "print(string)\n"
   ]
  },
  {
   "cell_type": "markdown",
   "id": "2360d329",
   "metadata": {},
   "source": [
    "### Q6.What are the values of the given expressions?\n",
    "#### 'Hello, world!'[1]\n",
    "#### 'Hello, world!'[0:5]\n",
    "#### 'Hello, world!'[:5]\n",
    "#### 'Hello, world!'[3:]"
   ]
  },
  {
   "cell_type": "code",
   "execution_count": 19,
   "id": "6f29860c",
   "metadata": {},
   "outputs": [
    {
     "data": {
      "text/plain": [
       "'e'"
      ]
     },
     "execution_count": 19,
     "metadata": {},
     "output_type": "execute_result"
    }
   ],
   "source": [
    "'Hello, world'[1]"
   ]
  },
  {
   "cell_type": "code",
   "execution_count": 16,
   "id": "5bfa6eb2",
   "metadata": {},
   "outputs": [
    {
     "data": {
      "text/plain": [
       "'Hello'"
      ]
     },
     "execution_count": 16,
     "metadata": {},
     "output_type": "execute_result"
    }
   ],
   "source": [
    "'Hello, world'[0:5]"
   ]
  },
  {
   "cell_type": "code",
   "execution_count": 17,
   "id": "4eaa4aa6",
   "metadata": {},
   "outputs": [
    {
     "data": {
      "text/plain": [
       "'Hello'"
      ]
     },
     "execution_count": 17,
     "metadata": {},
     "output_type": "execute_result"
    }
   ],
   "source": [
    "'Hello, world'[:5]"
   ]
  },
  {
   "cell_type": "code",
   "execution_count": 18,
   "id": "164f8994",
   "metadata": {},
   "outputs": [
    {
     "data": {
      "text/plain": [
       "'lo, world'"
      ]
     },
     "execution_count": 18,
     "metadata": {},
     "output_type": "execute_result"
    }
   ],
   "source": [
    "'Hello, world'[3:]"
   ]
  },
  {
   "cell_type": "markdown",
   "id": "6611ae89",
   "metadata": {},
   "source": [
    "### Q7. What are the values of the following expressions?\n",
    "\n",
    "#### 'Hello'.upper()\n",
    "#### 'Hello'.upper().isupper()\n",
    "#### 'Hello'.upper().lower()"
   ]
  },
  {
   "cell_type": "code",
   "execution_count": 21,
   "id": "564655ca",
   "metadata": {},
   "outputs": [
    {
     "data": {
      "text/plain": [
       "'HELLO'"
      ]
     },
     "execution_count": 21,
     "metadata": {},
     "output_type": "execute_result"
    }
   ],
   "source": [
    "'Hello'.upper()\n"
   ]
  },
  {
   "cell_type": "code",
   "execution_count": 22,
   "id": "d44f53a9",
   "metadata": {},
   "outputs": [
    {
     "data": {
      "text/plain": [
       "True"
      ]
     },
     "execution_count": 22,
     "metadata": {},
     "output_type": "execute_result"
    }
   ],
   "source": [
    "'Hello'.upper().isupper()\n"
   ]
  },
  {
   "cell_type": "code",
   "execution_count": 23,
   "id": "ab79e337",
   "metadata": {},
   "outputs": [
    {
     "data": {
      "text/plain": [
       "'hello'"
      ]
     },
     "execution_count": 23,
     "metadata": {},
     "output_type": "execute_result"
    }
   ],
   "source": [
    "'Hello'.upper().lower()"
   ]
  },
  {
   "cell_type": "markdown",
   "id": "35632ccc",
   "metadata": {},
   "source": [
    "### Q8.What are the values of the following expressions?\n",
    "#### 'Remember, remember, the fifth of July.'.split()\n",
    "#### '-'.join('There can only one'.split())"
   ]
  },
  {
   "cell_type": "code",
   "execution_count": 24,
   "id": "d9558d6c",
   "metadata": {},
   "outputs": [
    {
     "data": {
      "text/plain": [
       "['Remember,', 'remember,', 'the', 'fifth', 'of', 'July.']"
      ]
     },
     "execution_count": 24,
     "metadata": {},
     "output_type": "execute_result"
    }
   ],
   "source": [
    "'Remember, remember, the fifth of July.'.split()"
   ]
  },
  {
   "cell_type": "code",
   "execution_count": 25,
   "id": "bccc15e9",
   "metadata": {},
   "outputs": [
    {
     "data": {
      "text/plain": [
       "'There-can-only-one'"
      ]
     },
     "execution_count": 25,
     "metadata": {},
     "output_type": "execute_result"
    }
   ],
   "source": [
    "'-'.join('There can only one'.split())"
   ]
  },
  {
   "cell_type": "markdown",
   "id": "0d6d60dd",
   "metadata": {},
   "source": [
    "### Q9.What are the methods for right-justifying, left-justifying, and centering a string?"
   ]
  },
  {
   "cell_type": "markdown",
   "id": "9c74688f",
   "metadata": {},
   "source": [
    "Ans 9. Most programming languages provide built-in string methods for right-justifying, left-justifying, and centering strings. Here are some common methods for each:\n",
    "\n",
    "1. Right-justifying a string:\n",
    "To right-justify a string, you can use the built-in string method rjust(). This method takes one required argument, which is the width of the resulting string, and an optional argument which is the fill character (by default it's a space). The method returns a new string that is padded with the specified fill character to the left to meet the specified width."
   ]
  },
  {
   "cell_type": "code",
   "execution_count": 26,
   "id": "1ac1dcba",
   "metadata": {},
   "outputs": [
    {
     "name": "stdout",
     "output_type": "stream",
     "text": [
      "     hello\n"
     ]
    }
   ],
   "source": [
    "#Here's an example of using the rjust() method in Python:\n",
    "\n",
    "my_string = \"hello\"\n",
    "right_justified_string = my_string.rjust(10)\n",
    "print(right_justified_string)"
   ]
  },
  {
   "cell_type": "markdown",
   "id": "64fbe00f",
   "metadata": {},
   "source": [
    "2. Left-justifying a string: To left-justify a string, you can use the built-in string method ljust(). This method takes one required argument, which is the width of the resulting string, and an optional argument which is the fill character (by default it's a space). The method returns a new string that is padded with the specified fill character to the right to meet the specified width.\n",
    "\n"
   ]
  },
  {
   "cell_type": "code",
   "execution_count": 27,
   "id": "5305ba8a",
   "metadata": {},
   "outputs": [
    {
     "name": "stdout",
     "output_type": "stream",
     "text": [
      "hello     \n"
     ]
    }
   ],
   "source": [
    "#Here's an example of using the ljust() method in Python:\n",
    "\n",
    "my_string = \"hello\"\n",
    "left_justified_string = my_string.ljust(10)\n",
    "print(left_justified_string)"
   ]
  },
  {
   "cell_type": "markdown",
   "id": "392c1060",
   "metadata": {},
   "source": [
    "3. Centering a string: To center a string, you can use the built-in string method center(). This method takes one required argument, which is the width of the resulting string, and an optional argument which is the fill character (by default it's a space). The method returns a new string that is padded with the specified fill character to the left and right to meet the specified width, with the original string centered in the middle."
   ]
  },
  {
   "cell_type": "code",
   "execution_count": 28,
   "id": "0740e78c",
   "metadata": {},
   "outputs": [
    {
     "name": "stdout",
     "output_type": "stream",
     "text": [
      "  hello   \n"
     ]
    }
   ],
   "source": [
    "#Here's an example of using the center() method in Python:\n",
    "\n",
    "my_string = \"hello\"\n",
    "centered_string = my_string.center(10)\n",
    "print(centered_string)"
   ]
  },
  {
   "cell_type": "markdown",
   "id": "e45f56aa",
   "metadata": {},
   "source": [
    "### Q10. What is the best way to remove whitespace characters from the start or end?"
   ]
  },
  {
   "cell_type": "markdown",
   "id": "14385da7",
   "metadata": {},
   "source": [
    "Ans 10. Most programming languages provide built-in string methods to remove whitespace characters from the start or end of a string. For example:\n",
    "\n",
    "1. strip() method to remove leading and trailing whitespace characters\n",
    "2. lstrip() method to remove leading whitespace characters\n",
    "3. rstrip() method to remove trailing whitespace characters.\n",
    "4. Using regular expressions to match and remove whitespace characters from the start or end of a string. \n",
    "\n",
    "Overall, the best approach to removing whitespace characters from the start or end of a string will depend on the specific requirements of your project and the programming language being used."
   ]
  },
  {
   "cell_type": "code",
   "execution_count": null,
   "id": "a57b9623",
   "metadata": {},
   "outputs": [],
   "source": []
  }
 ],
 "metadata": {
  "kernelspec": {
   "display_name": "Python 3 (ipykernel)",
   "language": "python",
   "name": "python3"
  },
  "language_info": {
   "codemirror_mode": {
    "name": "ipython",
    "version": 3
   },
   "file_extension": ".py",
   "mimetype": "text/x-python",
   "name": "python",
   "nbconvert_exporter": "python",
   "pygments_lexer": "ipython3",
   "version": "3.9.13"
  }
 },
 "nbformat": 4,
 "nbformat_minor": 5
}
