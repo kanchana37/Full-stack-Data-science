{
 "cells": [
  {
   "cell_type": "markdown",
   "id": "7420751a",
   "metadata": {},
   "source": [
    "## Python Basic Assignment-5"
   ]
  },
  {
   "cell_type": "markdown",
   "id": "174943d7",
   "metadata": {},
   "source": [
    "### Q1.What does an empty dictionary code look like?"
   ]
  },
  {
   "cell_type": "markdown",
   "id": "9d65988a",
   "metadata": {},
   "source": [
    "Ans 1. In Python, an empty dictionary can be created by simply using a pair of curly braces with no key value pairs inside them. The code for an empty dictionary looks like this:\n",
    "\n",
    "my_dict = {}"
   ]
  },
  {
   "cell_type": "markdown",
   "id": "1599d4a6",
   "metadata": {},
   "source": [
    "### Q2. What is the value of a dictionary value with the key &#39;foo&#39; and the value 42?"
   ]
  },
  {
   "cell_type": "markdown",
   "id": "9c60c601",
   "metadata": {},
   "source": [
    "Ans 2. If a dictionary has a key 'foo' with the value 42, you can access that value by using the key 'foo' as follows:"
   ]
  },
  {
   "cell_type": "code",
   "execution_count": 1,
   "id": "cc6a362d",
   "metadata": {},
   "outputs": [
    {
     "name": "stdout",
     "output_type": "stream",
     "text": [
      "42\n"
     ]
    }
   ],
   "source": [
    "my_dict = {'foo': 42}\n",
    "value = my_dict['foo']\n",
    "print(value)\n",
    "\n",
    "#the value of a dictionary value with the key 'foo' and the value 42 is 42."
   ]
  },
  {
   "cell_type": "markdown",
   "id": "7ddf3d32",
   "metadata": {},
   "source": [
    "### Q3. What is the most significant distinction between a dictionary and a list?"
   ]
  },
  {
   "cell_type": "markdown",
   "id": "d11bb475",
   "metadata": {},
   "source": [
    "Ans 3. The most significant distinction between a dictionary and a list is the way they store and access data.\n",
    "\n",
    "A list is an ordered collection of elements, where each element is identified by its index position, starting from 0. The elements of a list can be of any data type, including other lists or dictionaries. You can add, remove, or modify elements of a list by their index position.\n",
    "\n",
    "For example:\n",
    "my_list = [1, 2, 3, 'four', 'five']\n",
    "\n",
    "On the other hand, a dictionary is an unordered collection of key-value pairs. Each key is unique and is used to access its corresponding value. The keys of a dictionary must be immutable data types (such as strings, integers, or tuples), while the values can be of any data type. You can add, remove, or modify key-value pairs of a dictionary using their respective keys.\n",
    "\n",
    "For example:\n",
    "my_dict = {'name': 'John', 'age': 30, 'city': 'New York'}"
   ]
  },
  {
   "cell_type": "markdown",
   "id": "b7cd9e92",
   "metadata": {},
   "source": [
    "### Q4. What happens if you try to access spam if spam is {'bar': 100}?"
   ]
  },
  {
   "cell_type": "markdown",
   "id": "857e7add",
   "metadata": {},
   "source": [
    "Ans4. If you try to access spam['foo'] when spam is the dictionary { 'bar': 100 }, a KeyError exception will be raised, because the key 'foo' does not exist in the dictionary.\n",
    "\n",
    "Here is an example:"
   ]
  },
  {
   "cell_type": "code",
   "execution_count": 2,
   "id": "d64c147b",
   "metadata": {},
   "outputs": [
    {
     "ename": "KeyError",
     "evalue": "'foo'",
     "output_type": "error",
     "traceback": [
      "\u001b[1;31m---------------------------------------------------------------------------\u001b[0m",
      "\u001b[1;31mKeyError\u001b[0m                                  Traceback (most recent call last)",
      "\u001b[1;32m~\\AppData\\Local\\Temp\\ipykernel_12920\\1148845734.py\u001b[0m in \u001b[0;36m<module>\u001b[1;34m\u001b[0m\n\u001b[0;32m      1\u001b[0m \u001b[0mspam\u001b[0m \u001b[1;33m=\u001b[0m \u001b[1;33m{\u001b[0m\u001b[1;34m'bar'\u001b[0m\u001b[1;33m:\u001b[0m \u001b[1;36m100\u001b[0m\u001b[1;33m}\u001b[0m\u001b[1;33m\u001b[0m\u001b[1;33m\u001b[0m\u001b[0m\n\u001b[1;32m----> 2\u001b[1;33m \u001b[0mprint\u001b[0m\u001b[1;33m(\u001b[0m\u001b[0mspam\u001b[0m\u001b[1;33m[\u001b[0m\u001b[1;34m'foo'\u001b[0m\u001b[1;33m]\u001b[0m\u001b[1;33m)\u001b[0m\u001b[1;33m\u001b[0m\u001b[1;33m\u001b[0m\u001b[0m\n\u001b[0m",
      "\u001b[1;31mKeyError\u001b[0m: 'foo'"
     ]
    }
   ],
   "source": [
    "spam = {'bar': 100}\n",
    "print(spam['foo'])"
   ]
  },
  {
   "cell_type": "markdown",
   "id": "bbddbafa",
   "metadata": {},
   "source": [
    "### Q5. If a dictionary is stored in spam, what is the difference between the expressions 'cat' in spam and 'cat' in spam.keys()?"
   ]
  },
  {
   "cell_type": "markdown",
   "id": "1f0ea331",
   "metadata": {},
   "source": [
    "Ans5. The main difference between the expressions cat in spam and cat in spam.keys() is the type of object being searched for the presence of 'cat' - the former searches for the key directly in the dictionary, while the latter searches for the key in a list of keys returned by the keys() method of the dictionary. However, in terms of functionality and output, they are equivalent."
   ]
  },
  {
   "cell_type": "markdown",
   "id": "ca945ee2",
   "metadata": {},
   "source": [
    "### Q6. If a dictionary is stored in spam, what is the difference between the expressions 'cat' in spam and 'cat' in spam.values()?"
   ]
  },
  {
   "cell_type": "markdown",
   "id": "745ea219",
   "metadata": {},
   "source": [
    "Ans6. The main difference between the expressions cat in spam and cat in spam.values() is that the former checks for the presence of 'cat' as a key in the dictionary spam, while the latter checks for the presence of 'cat' as a value in the dictionary spam.Both expressions are different in terms of what they check."
   ]
  },
  {
   "cell_type": "markdown",
   "id": "b3b94a69",
   "metadata": {},
   "source": [
    "### Q7. What is a shortcut for the following code?\n",
    "#### if 'color' not in spam:\n",
    "#### spam['color'] = 'black'"
   ]
  },
  {
   "cell_type": "markdown",
   "id": "4491f16c",
   "metadata": {},
   "source": [
    "Ans 7. One shortcut to the code if 'color' not in spam: spam['color'] = 'black' is to use the setdefault() method of the dictionary spam.\n",
    "\n",
    "The setdefault() method returns the value associated with a key if the key exists in the dictionary, and sets a default value and returns it if the key does not exist. Here's how you can use setdefault() to achieve the same result as the original code:"
   ]
  },
  {
   "cell_type": "code",
   "execution_count": 3,
   "id": "4ef75eaa",
   "metadata": {},
   "outputs": [
    {
     "data": {
      "text/plain": [
       "'black'"
      ]
     },
     "execution_count": 3,
     "metadata": {},
     "output_type": "execute_result"
    }
   ],
   "source": [
    "spam.setdefault('color', 'black')"
   ]
  },
  {
   "cell_type": "markdown",
   "id": "b75aa7c2",
   "metadata": {},
   "source": [
    "This code checks whether the key 'color' is present in the dictionary spam. If the key is present, the method returns its associated value, which is not used in this case. If the key is not present, the method sets the default value 'black' for the key and returns it."
   ]
  },
  {
   "cell_type": "markdown",
   "id": "b95ab9f5",
   "metadata": {},
   "source": [
    "### Q8. How do you \"pretty print\" dictionary values using which module and function?"
   ]
  },
  {
   "cell_type": "markdown",
   "id": "9340a823",
   "metadata": {},
   "source": [
    "Ans 8. To \"pretty print\" dictionary values, you can use the pprint module in Python.\n",
    "\n",
    "The pprint module provides a pprint() function that allows you to print Python data structures in a more human-readable format. When you use pprint() to print a dictionary, it will automatically format the output with indentation and line breaks to make it easier to read.\n",
    "\n",
    "Here's an example of how to use pprint() to print a dictionary:"
   ]
  },
  {
   "cell_type": "code",
   "execution_count": 4,
   "id": "dac0a405",
   "metadata": {},
   "outputs": [
    {
     "name": "stdout",
     "output_type": "stream",
     "text": [
      "{'age': 25, 'city': 'New York', 'name': 'Alice'}\n"
     ]
    }
   ],
   "source": [
    "import pprint\n",
    "\n",
    "my_dict = {'name': 'Alice', 'age': 25, 'city': 'New York'}\n",
    "\n",
    "pprint.pprint(my_dict)"
   ]
  },
  {
   "cell_type": "code",
   "execution_count": null,
   "id": "87197ff1",
   "metadata": {},
   "outputs": [],
   "source": []
  }
 ],
 "metadata": {
  "kernelspec": {
   "display_name": "Python 3 (ipykernel)",
   "language": "python",
   "name": "python3"
  },
  "language_info": {
   "codemirror_mode": {
    "name": "ipython",
    "version": 3
   },
   "file_extension": ".py",
   "mimetype": "text/x-python",
   "name": "python",
   "nbconvert_exporter": "python",
   "pygments_lexer": "ipython3",
   "version": "3.9.13"
  }
 },
 "nbformat": 4,
 "nbformat_minor": 5
}
