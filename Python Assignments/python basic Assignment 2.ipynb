{
 "cells": [
  {
   "cell_type": "markdown",
   "id": "efb90433",
   "metadata": {},
   "source": [
    "                                    ### PYTHON BASIC ASSIGNMENT 2\n",
    "  "
   ]
  },
  {
   "cell_type": "markdown",
   "id": "9f55ca38",
   "metadata": {},
   "source": [
    "### 1.What are the two values of the Boolean data type? How do you write them?\n"
   ]
  },
  {
   "cell_type": "code",
   "execution_count": 2,
   "id": "700846e6",
   "metadata": {},
   "outputs": [
    {
     "name": "stdout",
     "output_type": "stream",
     "text": [
      "False\n",
      "True\n"
     ]
    }
   ],
   "source": [
    "The boolean value can be of two types only i.e. either True or False. The output <class 'bool'> indicates the variable is a boolean data type.\n",
    "\n",
    "#example\n",
    "a= 0 \n",
    "print(bool(a))\n",
    "b = 1 \n",
    "print(bool(b))\n",
    "\n",
    "so here we can see the value of true=1 and value of false=0"
   ]
  },
  {
   "cell_type": "markdown",
   "id": "4adbacfd",
   "metadata": {},
   "source": [
    "### 2. What are the three different types of Boolean operators?"
   ]
  },
  {
   "cell_type": "code",
   "execution_count": null,
   "id": "6ad59f82",
   "metadata": {},
   "outputs": [],
   "source": [
    "There are three types of boolean operators which include AND, Or, and NOT.\n",
    "\n",
    "#Boolean OR Operator\n",
    "The Boolean or operator returns True if any one of the inputs is True else returns False.\n",
    "#Boolean And Operator\n",
    "The Boolean and operator returns False if any one of the inputs is False else returns True.\n",
    "#Boolean NOT Operator\n",
    "The Boolean Not operator only require one argument and returns the negatation of the argument i.e. returns the True for False and False for True."
   ]
  },
  {
   "cell_type": "markdown",
   "id": "25c760e8",
   "metadata": {},
   "source": [
    "### 3.Make a list of each Boolean operator truth tables (i.e. every possible combination of Booleanvalues for the operator and what it evaluate )."
   ]
  },
  {
   "cell_type": "code",
   "execution_count": null,
   "id": "349e319a",
   "metadata": {},
   "outputs": [],
   "source": [
    "True and True = True\n",
    "False and False = False\n",
    "True and False = False\n",
    "True or True = True\n",
    "True or False = True\n",
    "False or True = True\n",
    "True or not False = True\n",
    "True and not False = True"
   ]
  },
  {
   "cell_type": "markdown",
   "id": "147484ac",
   "metadata": {},
   "source": [
    "### 4.What are the values of the following expressions?\n",
    "(5 > 4) and (3 == 5)\n",
    "not (5 > 4)\n",
    "(5 > 4) or (3 == 5)\n",
    "not ((5 > 4) or (3 == 5))\n",
    "(True and True) and (True == False)\n",
    "(not False) or (not True)"
   ]
  },
  {
   "cell_type": "code",
   "execution_count": null,
   "id": "a5b0b752",
   "metadata": {},
   "outputs": [],
   "source": [
    "(5 > 4) and (3 == 5):False\n",
    "not (5 > 4):False\n",
    "(5 > 4) or (3 == 5):True\n",
    "not ((5 > 4) or (3 == 5)):False\n",
    "(True and True) and (True == False):False\n",
    "(not False) or (not True):True"
   ]
  },
  {
   "cell_type": "markdown",
   "id": "121a3ea4",
   "metadata": {},
   "source": [
    "### 5.What are the six comparison operators?"
   ]
  },
  {
   "cell_type": "code",
   "execution_count": null,
   "id": "e69c9beb",
   "metadata": {},
   "outputs": [],
   "source": [
    "Types of Python Comparison Operators:\n",
    "\n",
    "1. Less than (<)\n",
    "The first comparison operator we will see is the less-than operator. It’s denoted by ‘<’ and it is used to check if the left value is less than the right value or not.\n",
    "eg.8<10\n",
    "2. Greater than (>)\n",
    " It’s denoted by ‘>’ symbol and it checks whether the value on the left side is greater than the right side.\n",
    "eg.10>9\n",
    "3.Less than or equal to (<=)\n",
    "The less than or equal to operator, denoted by ‘<=’ returns True when the left side operand is either less than or equal to the right side operand.\n",
    "eg.5<=10\n",
    "4. Greater than or equal to (>=)\n",
    "The greater than or equal to operator is just like less than or equal to. The only difference is that it checks that the left side value should be greater than or equal to the right side value.\n",
    "eg.14>=10\n",
    "5. Equal to (==)\n",
    "The equal to operator will return True when both the values on either side of the operator are equal. \n",
    "eg.23 == 23\n",
    "6.Not equal to (!=)\n",
    "The not equal to operator (!=) is opposite to the equal to operator. It returns true when the values on either side are unequal to each other.\n",
    "eg.3!=4"
   ]
  },
  {
   "cell_type": "markdown",
   "id": "b746925d",
   "metadata": {},
   "source": [
    "### 6.How do you tell the difference between the equal to and assignment operators?Describe acondition and when you would use one."
   ]
  },
  {
   "cell_type": "code",
   "execution_count": null,
   "id": "72ec7c50",
   "metadata": {},
   "outputs": [],
   "source": [
    "1)= operator\n",
    "\n",
    "The “=” is an assignment operator is used to assign the value on the right to the variable on the left.\n",
    "\n",
    "For example:\n",
    "a = 10;\n",
    "b = 20;\n",
    "Here, the variable a is assigned with value 10 and b is assigned with value 20\n",
    "\n",
    "2)== operator\n",
    "\n",
    "The ‘==’ operator checks whether the two given operands are equal or not. If so, it returns true. Otherwise it returns false.\n",
    "\n",
    "For example:\n",
    "5==5\n",
    "\n",
    "This will return true."
   ]
  },
  {
   "cell_type": "markdown",
   "id": "aebe6fca",
   "metadata": {},
   "source": [
    "### 7. Identify the three blocks in this code:\n",
    "### spam = 0\n",
    "### if spam == 10:\n",
    "### print(\"eggs\")\n",
    "### if spam > 5:\n",
    "### print('bacon')\n",
    "### else:\n",
    "### print('ham')\n",
    "### print('spam')\n",
    "### print('spam')"
   ]
  },
  {
   "cell_type": "code",
   "execution_count": null,
   "id": "5f61ac5e",
   "metadata": {},
   "outputs": [],
   "source": [
    "Here, the value of spam=0\n",
    "In block 1 ,When spam is equal to 10 then print eggs. \n",
    "In block 2 ,if spam is greater than 5 then print bacon \n",
    "In Block 3 ,it is following else statement where it is asking to print ham,spam and spam."
   ]
  },
  {
   "cell_type": "markdown",
   "id": "6ca36201",
   "metadata": {},
   "source": [
    "### 8. Write code that prints Hello if 1 is stored in spam, prints Howdy if 2 is stored in spam, and prints Greetings! if anything else is stored in spam."
   ]
  },
  {
   "cell_type": "code",
   "execution_count": 8,
   "id": "88f90a22",
   "metadata": {},
   "outputs": [
    {
     "name": "stdout",
     "output_type": "stream",
     "text": [
      "Enter Input value as intergers:7\n",
      "Greetings!\n"
     ]
    }
   ],
   "source": [
    "spam = int(input(\"Enter Input value as intergers:\"))\n",
    "\n",
    "if spam==1:\n",
    "      print('Hello')\n",
    "elif spam==2:\n",
    "      print('Howdy')\n",
    "else:\n",
    "    print('Greetings!')\n"
   ]
  },
  {
   "cell_type": "markdown",
   "id": "1321f801",
   "metadata": {},
   "source": [
    "### 9.If your programme is stuck in an endless loop, what keys you’ll press?"
   ]
  },
  {
   "cell_type": "code",
   "execution_count": null,
   "id": "64f1b819",
   "metadata": {},
   "outputs": [],
   "source": [
    "we can use break method and use CTRL+C."
   ]
  },
  {
   "cell_type": "markdown",
   "id": "fc4037c7",
   "metadata": {},
   "source": [
    "### 10. How can you tell the difference between break and continue?"
   ]
  },
  {
   "cell_type": "markdown",
   "id": "bfd218c8",
   "metadata": {},
   "source": [
    "#1)CONTINUE\n",
    "'continue' do not stops the continuation of loop, it only stops the current iteration.It also causes early execution of the next iteration.\n",
    "for i in range(9):\n",
    "    if i == 3:\n",
    "        continue   #continue example\n",
    "    print(i)\n",
    "#2)BREAK\n",
    "It terminates the execution of remaining iteration of the loop.\n",
    "\n",
    "for letter in 'lotus':     # break Example\n",
    "    if letter == 't':\n",
    "         break\n",
    "    print 'Current Letter :', letter"
   ]
  },
  {
   "cell_type": "markdown",
   "id": "871c2013",
   "metadata": {},
   "source": [
    "### 11. In a for loop, what is the difference between range(10), range(0, 10), and range(0, 10, 1)?"
   ]
  },
  {
   "cell_type": "code",
   "execution_count": null,
   "id": "0b7ad1ae",
   "metadata": {},
   "outputs": [],
   "source": [
    "There are three ways you can call range() : \n",
    "1.range(stop) takes one argument.\n",
    "2.range(start, stop) takes two arguments.\n",
    "3.range(start, stop, step) takes three arguments.\n",
    "\n",
    "Here, range(10) represents range(stop)- where it prints the values upto 10\n",
    "range(0, 10) represents range(start,stop) where it prints the values starting from 0  till 10\n",
    "range(0, 10, 1) represents range(start, stop, step) where it prints the values starting from 0  till 10 with a stepsize of 1.\n",
    "\n",
    "These all will give same value 0,1,2,3,4,5,6,7,8,9.\n",
    "\n"
   ]
  },
  {
   "cell_type": "markdown",
   "id": "b820bca9",
   "metadata": {},
   "source": [
    "### 12.Write a short program that prints the numbers 1 to 10 using a for loop. Then write an equivalent program that prints the numbers 1 to 10 using a while loop."
   ]
  },
  {
   "cell_type": "code",
   "execution_count": 3,
   "id": "4e69edb9",
   "metadata": {},
   "outputs": [
    {
     "name": "stdout",
     "output_type": "stream",
     "text": [
      "1\n",
      "2\n",
      "3\n",
      "4\n",
      "5\n",
      "6\n",
      "7\n",
      "8\n",
      "9\n",
      "10\n"
     ]
    }
   ],
   "source": [
    "#for loop\n",
    "for i in range(1,11):\n",
    "    print(i)\n",
    "    \n"
   ]
  },
  {
   "cell_type": "code",
   "execution_count": 5,
   "id": "9908b5d2",
   "metadata": {},
   "outputs": [
    {
     "name": "stdout",
     "output_type": "stream",
     "text": [
      "1\n",
      "2\n",
      "3\n",
      "4\n",
      "5\n",
      "6\n",
      "7\n",
      "8\n",
      "9\n",
      "10\n"
     ]
    }
   ],
   "source": [
    "#while loop\n",
    "i = 1\n",
    "while(i<=10):\n",
    "    print(i)\n",
    "    i += 1\n",
    "        "
   ]
  },
  {
   "cell_type": "markdown",
   "id": "e2a8a326",
   "metadata": {},
   "source": [
    "### 13. If you had a function named bacon() inside a module named spam, how would you call it after importing spam?"
   ]
  },
  {
   "cell_type": "code",
   "execution_count": null,
   "id": "20e512f7",
   "metadata": {},
   "outputs": [],
   "source": [
    "This function can be called with spam. bacon()."
   ]
  }
 ],
 "metadata": {
  "kernelspec": {
   "display_name": "Python 3 (ipykernel)",
   "language": "python",
   "name": "python3"
  },
  "language_info": {
   "codemirror_mode": {
    "name": "ipython",
    "version": 3
   },
   "file_extension": ".py",
   "mimetype": "text/x-python",
   "name": "python",
   "nbconvert_exporter": "python",
   "pygments_lexer": "ipython3",
   "version": "3.9.7"
  }
 },
 "nbformat": 4,
 "nbformat_minor": 5
}
