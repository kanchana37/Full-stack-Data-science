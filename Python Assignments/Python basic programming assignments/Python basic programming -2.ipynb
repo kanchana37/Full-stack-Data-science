{
 "cells": [
  {
   "cell_type": "markdown",
   "id": "6bc93740",
   "metadata": {},
   "source": [
    "## Python Basic Programming assignment-2"
   ]
  },
  {
   "cell_type": "markdown",
   "id": "0b61541a",
   "metadata": {},
   "source": [
    "### Q1. Write a Python program to convert kilometers to miles?"
   ]
  },
  {
   "cell_type": "code",
   "execution_count": 2,
   "id": "8e9248e4",
   "metadata": {},
   "outputs": [
    {
     "name": "stdout",
     "output_type": "stream",
     "text": [
      "Enter distance in kilometers: 34\n",
      "34.0 kilometers =  21.126614 miles\n"
     ]
    }
   ],
   "source": [
    "# Here's a Python program to convert kilometers to miles:\n",
    "\n",
    "kilometers = float(input(\"Enter distance in kilometers: \"))\n",
    "\n",
    "# convert kilometers to miles\n",
    "miles = kilometers * 0.621371\n",
    "\n",
    "print(kilometers, \"kilometers = \", miles, \"miles\")"
   ]
  },
  {
   "cell_type": "markdown",
   "id": "cfd37dd8",
   "metadata": {},
   "source": [
    "### Q2. Write a Python program to convert Celsius to Fahrenheit?"
   ]
  },
  {
   "cell_type": "code",
   "execution_count": 1,
   "id": "e3b7974e",
   "metadata": {},
   "outputs": [
    {
     "name": "stdout",
     "output_type": "stream",
     "text": [
      "Enter temperature in Celsius: 25\n",
      "25.0 Celsius =  77.0 Fahrenheit\n"
     ]
    }
   ],
   "source": [
    "# Here's a Python program to convert Celsius to Fahrenheit:\n",
    "\n",
    "celsius = float(input(\"Enter temperature in Celsius: \"))\n",
    "\n",
    "# convert Celsius to Fahrenheit\n",
    "fahrenheit = (celsius * 9/5) + 32\n",
    "\n",
    "print(celsius, \"Celsius = \", fahrenheit, \"Fahrenheit\")\n",
    "\n"
   ]
  },
  {
   "cell_type": "markdown",
   "id": "5c9096e8",
   "metadata": {},
   "source": [
    "### Q3. A Python program to display calendar?"
   ]
  },
  {
   "cell_type": "code",
   "execution_count": 10,
   "id": "3358a485",
   "metadata": {},
   "outputs": [
    {
     "name": "stdout",
     "output_type": "stream",
     "text": [
      "Enter the year: 2023\n",
      "Enter the month (1-12): 3\n",
      "     March 2023\n",
      "Mo Tu We Th Fr Sa Su\n",
      "       1  2  3  4  5\n",
      " 6  7  8  9 10 11 12\n",
      "13 14 15 16 17 18 19\n",
      "20 21 22 23 24 25 26\n",
      "27 28 29 30 31\n",
      "\n"
     ]
    }
   ],
   "source": [
    "import calendar\n",
    "\n",
    "year = int(input(\"Enter the year: \"))\n",
    "month = int(input(\"Enter the month (1-12): \"))\n",
    "\n",
    "# display the calendar\n",
    "print(calendar.month(year, month))"
   ]
  },
  {
   "cell_type": "markdown",
   "id": "feb5ef0e",
   "metadata": {},
   "source": [
    "### Q4. Write a Python program to solve quadratic equation?"
   ]
  },
  {
   "cell_type": "code",
   "execution_count": 8,
   "id": "75e572cf",
   "metadata": {},
   "outputs": [
    {
     "name": "stdout",
     "output_type": "stream",
     "text": [
      "Enter the coefficient of x^2: 7\n",
      "Enter the coefficient of x: 6\n",
      "Enter the constant: 2\n",
      "The roots are complex and different.\n",
      "Root 1 =  -0.42857142857142855 + 0.31943828249996997 i\n",
      "Root 2 =  -0.42857142857142855 - 0.31943828249996997 i\n"
     ]
    }
   ],
   "source": [
    "# Here's a Python program to solve a quadratic equation of the form ax^2 + bx + c = 0:\n",
    "\n",
    "import math\n",
    "\n",
    "a = float(input(\"Enter the coefficient of x^2: \"))\n",
    "b = float(input(\"Enter the coefficient of x: \"))\n",
    "c = float(input(\"Enter the constant: \"))\n",
    "\n",
    "# Calculate the discriminant\n",
    "discriminant = b**2 - 4*a*c\n",
    "\n",
    "# Check if the discriminant is positive, negative or zero\n",
    "if discriminant > 0:\n",
    "    # Two real roots\n",
    "    root1 = (-b + math.sqrt(discriminant)) / (2*a)\n",
    "    root2 = (-b - math.sqrt(discriminant)) / (2*a)\n",
    "    print(\"The roots are real and different.\")\n",
    "    print(\"Root 1 = \", root1)\n",
    "    print(\"Root 2 = \", root2)\n",
    "elif discriminant == 0:\n",
    "    # One real root (the roots are the same)\n",
    "    root = -b / (2*a)\n",
    "    print(\"The roots are real and equal.\")\n",
    "    print(\"Root 1 = Root 2 = \", root)\n",
    "else:\n",
    "    # Two complex roots\n",
    "    realPart = -b / (2*a)\n",
    "    imagPart = math.sqrt(-discriminant) / (2*a)\n",
    "    print(\"The roots are complex and different.\")\n",
    "    print(\"Root 1 = \", realPart, \"+\", imagPart, \"i\")\n",
    "    print(\"Root 2 = \", realPart, \"-\", imagPart, \"i\")"
   ]
  },
  {
   "cell_type": "markdown",
   "id": "940d7657",
   "metadata": {},
   "source": [
    "### Q5. Write a Python program to swap two variables without temp variable?"
   ]
  },
  {
   "cell_type": "code",
   "execution_count": 1,
   "id": "19869a62",
   "metadata": {},
   "outputs": [
    {
     "name": "stdout",
     "output_type": "stream",
     "text": [
      "Before swapping: \n",
      "x =  10\n",
      "y =  20\n",
      "After swapping: \n",
      "x =  20\n",
      "y =  10\n"
     ]
    }
   ],
   "source": [
    "# Here's a Python program to swap two variables without using a temporary variable:\n",
    "x = 10\n",
    "y = 20\n",
    "\n",
    "print(\"Before swapping: \")\n",
    "print(\"x = \", x)\n",
    "print(\"y = \", y)\n",
    "\n",
    "x, y = y, x\n",
    "\n",
    "print(\"After swapping: \")\n",
    "print(\"x = \", x)\n",
    "print(\"y = \", y)"
   ]
  },
  {
   "cell_type": "code",
   "execution_count": null,
   "id": "31a2c0cd",
   "metadata": {},
   "outputs": [],
   "source": []
  }
 ],
 "metadata": {
  "kernelspec": {
   "display_name": "Python 3 (ipykernel)",
   "language": "python",
   "name": "python3"
  },
  "language_info": {
   "codemirror_mode": {
    "name": "ipython",
    "version": 3
   },
   "file_extension": ".py",
   "mimetype": "text/x-python",
   "name": "python",
   "nbconvert_exporter": "python",
   "pygments_lexer": "ipython3",
   "version": "3.9.13"
  }
 },
 "nbformat": 4,
 "nbformat_minor": 5
}
