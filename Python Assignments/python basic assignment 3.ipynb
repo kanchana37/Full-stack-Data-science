{
 "cells": [
  {
   "cell_type": "markdown",
   "id": "58570634",
   "metadata": {},
   "source": [
    "### 1. Why are functions advantageous to have in your programs?"
   ]
  },
  {
   "cell_type": "code",
   "execution_count": null,
   "id": "43576018",
   "metadata": {},
   "outputs": [],
   "source": [
    "1.Advantages of functions:\n",
    "    \n",
    "1)Maximizing code reusability-It encourages us to call the same method with different inputs over multiple times.\n",
    "2)Minimizing redundancy-Python Functions stop us from writing the same logic various times.\n",
    "3)Procedural decomposition-It helps to divide the large programs into small groups so that we can read the code, and debug the program faster and better.\n",
    "4)Make programs simpler to read and understand"
   ]
  },
  {
   "cell_type": "markdown",
   "id": "fded510f",
   "metadata": {},
   "source": [
    "### 2. When does the code in a function run: when it is specified or when it is called?"
   ]
  },
  {
   "cell_type": "code",
   "execution_count": null,
   "id": "30c1492f",
   "metadata": {},
   "outputs": [],
   "source": [
    "2.A function is executed when it is being called"
   ]
  },
  {
   "cell_type": "markdown",
   "id": "65037627",
   "metadata": {},
   "source": [
    "### 3.What statement creates a function?"
   ]
  },
  {
   "cell_type": "code",
   "execution_count": 4,
   "id": "e78893d3",
   "metadata": {},
   "outputs": [],
   "source": [
    "3.The “def” keyword is a statement for defining a function in Python.\n",
    "\n",
    "#syntax:\n",
    "def test():\n",
    "    print(\"this is my function\")\n",
    "\n"
   ]
  },
  {
   "cell_type": "markdown",
   "id": "7b0794f6",
   "metadata": {},
   "source": [
    "### 4. What is the difference between a function and a function call?"
   ]
  },
  {
   "cell_type": "code",
   "execution_count": 9,
   "id": "54e22e04",
   "metadata": {},
   "outputs": [
    {
     "name": "stdout",
     "output_type": "stream",
     "text": [
      "this is my function\n"
     ]
    }
   ],
   "source": [
    "#Defining a funtion\n",
    "def statement is used to create a function but it does not give any output until executed.\n",
    "\n",
    "#calling a function\n",
    "whereas, calling a function helps in executing the code and gives the output.\n",
    "\n",
    "#eg.creating a function\n",
    "def my_function():\n",
    "    print(\"this is my function\")\n",
    "\n",
    "#calling it\n",
    "test()\n"
   ]
  },
  {
   "cell_type": "markdown",
   "id": "83ef3f3c",
   "metadata": {},
   "source": [
    "### 5. How many global scopes are there in a Python program? How many local scopes?"
   ]
  },
  {
   "cell_type": "code",
   "execution_count": null,
   "id": "ae473ceb",
   "metadata": {},
   "outputs": [],
   "source": [
    "#local scope\n",
    "Variables that are defined inside a function body have a local scope. This means that local variables can be accessed only inside the function in which they are declared.\n",
    "\n",
    "#global variable\n",
    "variables that are defined outside a function body have a global scope. This means global variables can be accessed throughout the program body by all functions."
   ]
  },
  {
   "cell_type": "markdown",
   "id": "6b0ceeb5",
   "metadata": {},
   "source": [
    "### 6. What happens to variables in a local scope when the function call returns?"
   ]
  },
  {
   "cell_type": "code",
   "execution_count": null,
   "id": "e7cea014",
   "metadata": {},
   "outputs": [],
   "source": [
    "When the execution of the function terminates (returns), the local variables are destroyed. The local variable can be used outside the function any time after the function call completes.\n"
   ]
  },
  {
   "cell_type": "markdown",
   "id": "ebeb917e",
   "metadata": {},
   "source": [
    "### 7. What is the concept of a return value? Is it possible to have a return value in an expression?"
   ]
  },
  {
   "cell_type": "code",
   "execution_count": null,
   "id": "2436919b",
   "metadata": {},
   "outputs": [],
   "source": [
    "An return statement immediately terminates a function execution and sends the return value back to the caller code.\n"
   ]
  },
  {
   "cell_type": "markdown",
   "id": "9fe20586",
   "metadata": {},
   "source": [
    "### 8. If a function does not have a return statement, what is the return value of a call to that function?"
   ]
  },
  {
   "cell_type": "code",
   "execution_count": null,
   "id": "a9e2aba8",
   "metadata": {},
   "outputs": [],
   "source": [
    "If no return statement appears in a function definition, control automatically returns to the calling function after the last statement of the called function is executed. In this case, the return value of the called function is undefined."
   ]
  },
  {
   "cell_type": "markdown",
   "id": "9553a61b",
   "metadata": {},
   "source": [
    "### 9. How do you make a function variable refer to the global variable?"
   ]
  },
  {
   "cell_type": "code",
   "execution_count": null,
   "id": "9f202ddb",
   "metadata": {},
   "outputs": [],
   "source": [
    "9.Variables that are created outside of a function (as in all of the examples above) are known as global variables.\n",
    "Global variables can be used by everyone, both inside of functions and outside.\n",
    "To create a global variable inside a function, you can use the global keyword.\n",
    "\n"
   ]
  },
  {
   "cell_type": "markdown",
   "id": "0ac2aa83",
   "metadata": {},
   "source": [
    "### 10. What is the data type of None?"
   ]
  },
  {
   "cell_type": "code",
   "execution_count": null,
   "id": "0d6223fc",
   "metadata": {},
   "outputs": [],
   "source": [
    "10.None is used to define a null value. It is not the same as an empty string, False, or a zero. It is a data type of the class NoneType object. \n",
    "\n",
    "Assigning a value of None to a variable is one way to reset it to its original, empty state.\n",
    "\n"
   ]
  },
  {
   "cell_type": "markdown",
   "id": "c712dc1f",
   "metadata": {},
   "source": [
    "### 11. What does the sentence import areallyourpetsnamederic do?"
   ]
  },
  {
   "cell_type": "code",
   "execution_count": null,
   "id": "04f4d47f",
   "metadata": {},
   "outputs": [],
   "source": [
    "It will import the library name areallyourpetsnamederic."
   ]
  },
  {
   "cell_type": "markdown",
   "id": "8ba3926a",
   "metadata": {},
   "source": [
    "### 12. If you had a bacon() feature in a spam module, what would you call it after importing spam?"
   ]
  },
  {
   "cell_type": "code",
   "execution_count": null,
   "id": "c46795a5",
   "metadata": {},
   "outputs": [],
   "source": [
    "To call a bacon() feature in spam module we can write, spam.bacon()."
   ]
  },
  {
   "cell_type": "markdown",
   "id": "eba071af",
   "metadata": {},
   "source": [
    "### 13. What can you do to save a programme from crashing if it encounters an error?"
   ]
  },
  {
   "cell_type": "code",
   "execution_count": null,
   "id": "d3ebafd7",
   "metadata": {},
   "outputs": [],
   "source": [
    "#To save the the program from getting crashed\n",
    "In Python, we use the try and except statements to handle exceptions. When it encounters an error, the control is passed to the except block, skipping the code in between. And except block enables you to handle the error with a user-defined response by displaying the error message without even crashing the the program.\n",
    "#To save the program\n",
    "When an exception is raised,  We can use logging method to log the required information and track down the issue. "
   ]
  },
  {
   "cell_type": "markdown",
   "id": "7372fd96",
   "metadata": {},
   "source": [
    "### 14. What is the purpose of the try clause? What is the purpose of the except clause?"
   ]
  },
  {
   "cell_type": "code",
   "execution_count": null,
   "id": "09905bd0",
   "metadata": {},
   "outputs": [],
   "source": [
    "If our program encounters an abnormal situation during its execution it raises an exception which can be handled by try and except clause. This prevents abrupt exits of the program on error.\n",
    "\n",
    "#try block\n",
    "Helps to test the code. If the code inside the try block is error free it is executed. Otherwise the error gets caught and control goes to the except block.\n",
    "#except block\n",
    "The except block enables you to handle the error with a user-defined response by displaying the error message.\n",
    "\n",
    "Try and except  block helps to debug python code easily."
   ]
  }
 ],
 "metadata": {
  "kernelspec": {
   "display_name": "Python 3 (ipykernel)",
   "language": "python",
   "name": "python3"
  },
  "language_info": {
   "codemirror_mode": {
    "name": "ipython",
    "version": 3
   },
   "file_extension": ".py",
   "mimetype": "text/x-python",
   "name": "python",
   "nbconvert_exporter": "python",
   "pygments_lexer": "ipython3",
   "version": "3.9.7"
  }
 },
 "nbformat": 4,
 "nbformat_minor": 5
}
