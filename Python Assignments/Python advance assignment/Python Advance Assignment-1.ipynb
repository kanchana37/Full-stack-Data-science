{
 "cells": [
  {
   "cell_type": "markdown",
   "id": "ff838e3a",
   "metadata": {},
   "source": [
    "## Python Advance Assignment-1"
   ]
  },
  {
   "cell_type": "markdown",
   "id": "07c19b95",
   "metadata": {},
   "source": [
    "### Q1. What is the purpose of Python&#39;s OOP?"
   ]
  },
  {
   "cell_type": "markdown",
   "id": "7fd25854",
   "metadata": {},
   "source": [
    "Ans 1. The purpose of Python's Object-Oriented Programming (OOP) is to provide a way to organize and structure code so that it is more modular, reusable, and easier to maintain.\n",
    "\n",
    "OOP is a programming paradigm that is based on the concept of \"objects\", which are instances of classes. A class is a blueprint for creating objects that defines the properties and behaviors of those objects.\n",
    "\n",
    "In Python, OOP allows you to create classes and objects, which can encapsulate data and functions that operate on that data. This makes it easier to manage and manipulate complex data structures and systems. OOP also provides features like inheritance and polymorphism, which allow you to reuse and extend existing code in a flexible and modular way.\n",
    "\n",
    "Some of the benefits of using OOP in Python include:\n",
    "\n",
    "1. Code reusability: With OOP, you can create reusable classes and objects that can be used in different parts of your code, making it easier to maintain and update your code.\n",
    "\n",
    "2. Modularity: OOP allows you to break down your code into smaller, more manageable pieces, making it easier to organize and maintain.\n",
    "\n",
    "3. Encapsulation: OOP allows you to hide the implementation details of your code and expose only the necessary interfaces to the outside world, improving code security and reliability.\n",
    "\n",
    "4. Inheritance: OOP allows you to create new classes that inherit the properties and behaviors of existing classes, making it easier to extend and modify existing code.\n",
    "\n",
    "5. Polymorphism: OOP allows you to write code that can work with objects of different types, improving code flexibility and adaptability.\n",
    "\n",
    "Overall, Python's OOP features provide a powerful and flexible way to structure and organize code, making it easier to create complex and robust applications."
   ]
  },
  {
   "cell_type": "markdown",
   "id": "ab7a5238",
   "metadata": {},
   "source": [
    "### Q2. Where does an inheritance search look for an attribute?"
   ]
  },
  {
   "cell_type": "markdown",
   "id": "51dd50a2",
   "metadata": {},
   "source": [
    "Ans 2. Inheritance search look for an attribute in a namespace tree from bottom to top, left to right.\n",
    "\n"
   ]
  },
  {
   "cell_type": "markdown",
   "id": "c495ea48",
   "metadata": {},
   "source": [
    "### Q3. How do you distinguish between a class object and an instance object?"
   ]
  },
  {
   "cell_type": "markdown",
   "id": "05b99579",
   "metadata": {},
   "source": [
    "Ans 3. In object-oriented programming, a class is a blueprint or a template that describes the attributes and behaviors of a certain type of object. An instance, on the other hand, is a specific object that is created from a class.\n",
    "\n",
    "To distinguish between a class object and an instance object, consider the following:\n",
    "\n",
    "1. Definition: A class is a definition of a type of object, while an instance is an object created from that class.\n",
    "\n",
    "2. Scope: A class object is a single entity that exists throughout the lifetime of the program, while instance objects are created and destroyed as needed during the execution of the program.\n",
    "\n",
    "3. Access: Class objects can be used to access class-level variables and methods, while instance objects can be used to access instance-level variables and methods.\n",
    "\n",
    "4. Relationship: A class is a general concept, while an instance is a specific example of that concept. For example, a class might be \"Car\" and an instance might be \"Honda Civic.\"\n",
    "\n",
    "In summary, a class is a blueprint for creating objects, while an instance is a specific object created from that blueprint."
   ]
  },
  {
   "cell_type": "markdown",
   "id": "b2791cb3",
   "metadata": {},
   "source": [
    "### Q4. What makes the first argument in a class’s method function special?"
   ]
  },
  {
   "cell_type": "markdown",
   "id": "7c7a1026",
   "metadata": {},
   "source": [
    "Ans 4. In Python, the first argument of a class method function is conventionally called self, and it refers to the instance of the class on which the method is called.The self parameter is special in Python because it allows instance methods to access and manipulate the attributes and methods of the object that they belong to. Also, it helps to distinguish instance methods from class methods and static methods.\n",
    "\n"
   ]
  },
  {
   "cell_type": "markdown",
   "id": "0e91b6c1",
   "metadata": {},
   "source": [
    "### Q5. What is the purpose of the __init__ method?"
   ]
  },
  {
   "cell_type": "markdown",
   "id": "1afd6be7",
   "metadata": {},
   "source": [
    "Ans 5. The __init__ method is a special method in Python classes that is called when an object is created from the class. It is also known as the constructor method, and it is used to initialize the object's attributes with default or user-specified values."
   ]
  },
  {
   "cell_type": "markdown",
   "id": "c07fcff9",
   "metadata": {},
   "source": [
    "### Q6.  What is the process for creating a class instance?"
   ]
  },
  {
   "cell_type": "markdown",
   "id": "e0f0e04a",
   "metadata": {},
   "source": [
    "Ans 6. To create an instance of a class in Python, you need to define the class, create an instance by calling the class with any necessary arguments, and then access the attributes and methods of the instance using the dot operator."
   ]
  },
  {
   "cell_type": "code",
   "execution_count": 3,
   "id": "1675edf0",
   "metadata": {},
   "outputs": [
    {
     "name": "stdout",
     "output_type": "stream",
     "text": [
      "John\n",
      "36\n"
     ]
    }
   ],
   "source": [
    "#Here's an example of creating an instance of a class:\n",
    "\n",
    "class Person:\n",
    "    def __init__(self, name, age):\n",
    "        self.name = name\n",
    "        self.age = age\n",
    "\n",
    "p1 = Person(\"John\", 36)\n",
    "\n",
    "print(p1.name)\n",
    "print(p1.age)"
   ]
  },
  {
   "cell_type": "markdown",
   "id": "7651e9a9",
   "metadata": {},
   "source": [
    "In the above example, we define a Person class with two attributes: name and age. We also define an __init__ method that takes two arguments and initializes the corresponding attributes of the instance.\n",
    "\n",
    "To create an instance of the Person class, we call the class like a function and pass the arguments \"John\" and 36 to the __init__ method. This creates a new instance of the Person class with the name attribute set to \"John\" and the age attribute set to 36.\n",
    "\n",
    "We can now use the p1 instance to access its attributes, like p1.name or p1.age, and call its methods if any."
   ]
  },
  {
   "cell_type": "markdown",
   "id": "6f31b8df",
   "metadata": {},
   "source": [
    "### Q7.  What is the process for creating a class?"
   ]
  },
  {
   "cell_type": "markdown",
   "id": "327880cf",
   "metadata": {},
   "source": [
    "Ans 7. In Python, you can create a class using the following process:\n",
    "\n",
    "1. Create a class\n",
    "\n",
    "2. Define the attributes and methods of the class\n",
    "\n",
    "3. Use the __init__ method to initialize the attributes of the class\n",
    "\n",
    "4. Use the class to create instances: Once you have defined the class, you can create instances of the class by calling the class like a function and passing any necessary arguments to the __init__ method."
   ]
  },
  {
   "cell_type": "code",
   "execution_count": 7,
   "id": "3574edec",
   "metadata": {},
   "outputs": [
    {
     "name": "stdout",
     "output_type": "stream",
     "text": [
      "Hello, my name is John and I'm 36 years old.\n"
     ]
    }
   ],
   "source": [
    "#Here's an example of creating a simple class:\n",
    "\n",
    "class Person:\n",
    "    def __init__(self, name, age):\n",
    "        self.name = name\n",
    "        self.age = age\n",
    "        \n",
    "    def greet(self):\n",
    "        print(f\"Hello, my name is {self.name} and I'm {self.age} years old.\")\n",
    "        \n",
    "p1 = Person(\"John\", 36)\n",
    "p1.greet()"
   ]
  },
  {
   "cell_type": "markdown",
   "id": "59fa9bab",
   "metadata": {},
   "source": [
    "### Q8. How would you define the superclasses of a class?"
   ]
  },
  {
   "cell_type": "markdown",
   "id": "f479c7da",
   "metadata": {},
   "source": [
    "Ans 8. In Python, the superclasses of a class can be defined using inheritance. Inheritance allows a subclass to inherit attributes and methods from its parent classes, also known as superclasses.To define the superclasses of a class, you can include the superclass names in the definition of the subclass using parentheses after the class name. \n"
   ]
  },
  {
   "cell_type": "code",
   "execution_count": 9,
   "id": "c0a7deb5",
   "metadata": {},
   "outputs": [
    {
     "name": "stdout",
     "output_type": "stream",
     "text": [
      "The animal is eating.\n",
      "The dog is barking.\n"
     ]
    }
   ],
   "source": [
    "#Here's an example:\n",
    "class Animal:\n",
    "    def eat(self):\n",
    "        print(\"The animal is eating.\")\n",
    "\n",
    "class Dog(Animal):\n",
    "    def bark(self):\n",
    "        print(\"The dog is barking.\")\n",
    "        \n",
    "my_dog = Dog()\n",
    "my_dog.eat() # This will call the eat method of the Animal class (the parent class)\n",
    "my_dog.bark() # This will call the bark method of the Dog class (the sub class)"
   ]
  },
  {
   "cell_type": "markdown",
   "id": "878a45d8",
   "metadata": {},
   "source": [
    "In this example, we define two classes: Animal and Dog. The Dog class is a subclass of the Animal class, which means that it inherits the eat method from the Animal class.  We can also call the bark method, which is defined in the Dog class itself."
   ]
  },
  {
   "cell_type": "code",
   "execution_count": null,
   "id": "892dfc03",
   "metadata": {},
   "outputs": [],
   "source": []
  }
 ],
 "metadata": {
  "kernelspec": {
   "display_name": "Python 3 (ipykernel)",
   "language": "python",
   "name": "python3"
  },
  "language_info": {
   "codemirror_mode": {
    "name": "ipython",
    "version": 3
   },
   "file_extension": ".py",
   "mimetype": "text/x-python",
   "name": "python",
   "nbconvert_exporter": "python",
   "pygments_lexer": "ipython3",
   "version": "3.9.13"
  }
 },
 "nbformat": 4,
 "nbformat_minor": 5
}
