{
 "cells": [
  {
   "cell_type": "markdown",
   "id": "695d1a07",
   "metadata": {},
   "source": [
    "## Python advance assignment-5"
   ]
  },
  {
   "cell_type": "markdown",
   "id": "b00cd012",
   "metadata": {},
   "source": [
    "### Q1. What is the meaning of multiple inheritance?"
   ]
  },
  {
   "cell_type": "markdown",
   "id": "d07b17f7",
   "metadata": {},
   "source": [
    "Ans 1. Multiple inheritance is a feature of object-oriented programming languages, including Python, that allows a subclass to inherit from multiple superclasses. This means that a subclass can inherit attributes and methods from more than one parent class."
   ]
  },
  {
   "cell_type": "markdown",
   "id": "c484b297",
   "metadata": {},
   "source": [
    "### Q2.What is the concept of delegation?"
   ]
  },
  {
   "cell_type": "markdown",
   "id": "ddc6a746",
   "metadata": {},
   "source": [
    "Ans 2. Delegation is a programming concept in which an object or class forwards certain responsibilities to another object or class. In other words, rather than implementing a particular behavior itself, an object delegates that behavior to another object, which is responsible for implementing it.\n",
    "\n",
    "In Python, delegation is often implemented using composition, rather than inheritance. In composition, an object contains one or more other objects as instance variables, and delegates certain behaviors to those objects. \n",
    "Here's a simple example:"
   ]
  },
  {
   "cell_type": "code",
   "execution_count": null,
   "id": "d0f5b95f",
   "metadata": {},
   "outputs": [],
   "source": [
    "class Processor:\n",
    "    def process(self, data):\n",
    "        # do some processing\n",
    "\n",
    "class Client:\n",
    "    def __init__(self, processor):\n",
    "        self.processor = processor\n",
    "\n",
    "    def do_work(self, data):\n",
    "        self.processor.process(data)\n"
   ]
  },
  {
   "cell_type": "markdown",
   "id": "346ee634",
   "metadata": {},
   "source": [
    "In this example, the Processor class defines a process() method that performs some kind of data processing. The Client class contains a reference to a Processor object, which it delegates the task of processing data to. The Client class has a do_work() method that takes some data and passes it to the process() method of the Processor object.\n",
    "\n",
    "Delegation can be a powerful technique in object-oriented programming, as it allows for greater flexibility and modularity. By delegating certain behaviors to separate objects, the code can be more easily maintained and modified. It also allows for greater code reuse, as objects with specific responsibilities can be reused in multiple contexts."
   ]
  },
  {
   "cell_type": "markdown",
   "id": "7604c537",
   "metadata": {},
   "source": [
    "### Q3. What is the concept of composition?"
   ]
  },
  {
   "cell_type": "markdown",
   "id": "9a983f7c",
   "metadata": {},
   "source": [
    "Ans 3. Composition is a programming concept in which an object is made up of one or more other objects as its components. This means that the object contains instance variables that are themselves objects, and these objects are responsible for specific aspects of the object's behavior.\n",
    "\n",
    "In Python, composition is often used instead of inheritance to achieve code reuse and modularity. In composition, objects are assembled from smaller components, rather than inheriting all their behavior from a single superclass. Here's a simple example:"
   ]
  },
  {
   "cell_type": "code",
   "execution_count": null,
   "id": "587486c9",
   "metadata": {},
   "outputs": [],
   "source": [
    "class Engine:\n",
    "    def start(self):\n",
    "        # start the engine\n",
    "\n",
    "class Car:\n",
    "    def __init__(self):\n",
    "        self.engine = Engine()\n",
    "\n",
    "    def start(self):\n",
    "        self.engine.start()"
   ]
  },
  {
   "cell_type": "markdown",
   "id": "e6bd625a",
   "metadata": {},
   "source": [
    "In this example, the Engine class represents a car engine, and defines a start() method that starts the engine. The Car class contains an instance variable that refers to an Engine object, which is responsible for starting the engine. The Car class also defines a start() method, which delegates the task of starting the engine to the Engine object."
   ]
  },
  {
   "cell_type": "markdown",
   "id": "ddf6dd00",
   "metadata": {},
   "source": [
    "### Q4. What are bound methods and how do we use them?"
   ]
  },
  {
   "cell_type": "markdown",
   "id": "26e58f28",
   "metadata": {},
   "source": [
    "Ans 4. In Python, a bound method is a method that is bound to an object instance. This means that the method has access to the object's attributes and can modify them. Bound methods are created automatically when a method is called on an object instance."
   ]
  },
  {
   "cell_type": "code",
   "execution_count": 6,
   "id": "8aa89eec",
   "metadata": {},
   "outputs": [],
   "source": [
    "#Here's an example:\n",
    "\n",
    "class MyClass:\n",
    "    def __init__(self, value):\n",
    "        self.value = value\n",
    "\n",
    "    def add(self, other):\n",
    "        self.value += other\n",
    "\n",
    "obj = MyClass(10)\n",
    "obj.add(5) # this is a bound method call"
   ]
  },
  {
   "cell_type": "markdown",
   "id": "716617bc",
   "metadata": {},
   "source": [
    "In this example, the add() method is bound to the obj instance of the MyClass class. When the add() method is called on the obj instance, it modifies the value attribute of the instance. Bound methods are useful because they allow us to modify the attributes of an object instance, based on its current state. They are also used to encapsulate behavior that is specific to an object instance. We can use bound methods to modify the state of an object instance, or to perform some action that is specific to that instance."
   ]
  },
  {
   "cell_type": "markdown",
   "id": "b30a62f8",
   "metadata": {},
   "source": [
    "### Q5. What is the purpose of pseudoprivate attributes?"
   ]
  },
  {
   "cell_type": "markdown",
   "id": "11e9743b",
   "metadata": {},
   "source": [
    "Ans 5. Pseudoprivate attributes in Python are attributes that are defined with double underscores at the beginning of their names (e.g. __attribute). These attributes are not truly private, in the sense that they can still be accessed and modified from outside the class. However, they are given a name that is unlikely to clash with other attributes in the same namespace, making them effectively \"hidden\" from other code.\n",
    "\n",
    "The purpose of pseudoprivate attributes is to provide a way to avoid naming conflicts in subclasses and prevent accidental modification or access to these attributes from outside the class. By using pseudoprivate attributes, developers can ensure that subclasses don't accidentally override or modify important attributes, and that other code doesn't accidentally access or modify attributes that are meant to be internal to the class."
   ]
  },
  {
   "cell_type": "code",
   "execution_count": null,
   "id": "fab7d7c9",
   "metadata": {},
   "outputs": [],
   "source": []
  }
 ],
 "metadata": {
  "kernelspec": {
   "display_name": "Python 3 (ipykernel)",
   "language": "python",
   "name": "python3"
  },
  "language_info": {
   "codemirror_mode": {
    "name": "ipython",
    "version": 3
   },
   "file_extension": ".py",
   "mimetype": "text/x-python",
   "name": "python",
   "nbconvert_exporter": "python",
   "pygments_lexer": "ipython3",
   "version": "3.9.13"
  }
 },
 "nbformat": 4,
 "nbformat_minor": 5
}
