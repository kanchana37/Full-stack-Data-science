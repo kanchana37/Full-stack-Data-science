{
 "cells": [
  {
   "cell_type": "markdown",
   "id": "0ae32e49",
   "metadata": {},
   "source": [
    "## Python advance assignment-3"
   ]
  },
  {
   "cell_type": "markdown",
   "id": "5a3645f5",
   "metadata": {},
   "source": [
    "### Q1. What is the concept of an abstract superclass?"
   ]
  },
  {
   "cell_type": "markdown",
   "id": "e42885f4",
   "metadata": {},
   "source": [
    "Ans 1. An abstract superclass is a class that is not meant to be instantiated directly, but instead serves as a template or blueprint for its subclasses. It defines a common interface or set of behaviors that its subclasses must implement, but does not provide a default implementation of those behaviors.\n",
    "\n",
    "In Python, abstract superclasses are typically created using the abc module and the ABC class. An abstract superclass can define abstract methods, which are methods that its subclasses must implement, but which have no implementation in the superclass. Any class that inherits from an abstract superclass must implement all of its abstract methods, or else it will also be treated as an abstract class and cannot be instantiated directly.\n",
    "\n",
    "Abstract superclasses are a key component of object-oriented programming and are useful for creating hierarchies of related classes that share common behaviors or properties. They allow you to define a common interface for a group of classes, while also providing a level of abstraction that can make your code more flexible and easier to maintain."
   ]
  },
  {
   "cell_type": "markdown",
   "id": "856118b9",
   "metadata": {},
   "source": [
    "### Q2. What happens when a class statement&#39;s top level contains a basic assignment statement?"
   ]
  },
  {
   "cell_type": "markdown",
   "id": "59a19e98",
   "metadata": {},
   "source": [
    "Ans 2. When a class statement's top level contains a basic assignment statement, the assignment creates a class variable rather than an instance variable. This means that the variable is shared by all instances of the class, rather than being unique to each instance.\n",
    "\n",
    "For example, consider the following class:"
   ]
  },
  {
   "cell_type": "code",
   "execution_count": 3,
   "id": "2091a4da",
   "metadata": {},
   "outputs": [
    {
     "name": "stdout",
     "output_type": "stream",
     "text": [
      "0 1\n",
      "0 2\n"
     ]
    }
   ],
   "source": [
    "class MyClass:\n",
    "    x = 0\n",
    "    \n",
    "    def __init__(self, y):\n",
    "        self.y = y\n",
    "        \n",
    "a = MyClass(1)\n",
    "b = MyClass(2)\n",
    "\n",
    "print(a.x, a.y)\n",
    "print(b.x, b.y)\n"
   ]
  },
  {
   "cell_type": "markdown",
   "id": "608538a9",
   "metadata": {},
   "source": [
    "In this class, the x = 0 statement is a basic assignment statement at the top level of the class. This creates a class variable x that is shared by all instances of the class. The __init__() method, on the other hand, creates an instance variable y that is unique to each instance of the class."
   ]
  },
  {
   "cell_type": "markdown",
   "id": "06be0741",
   "metadata": {},
   "source": [
    "### Q3. Why does a class need to manually call a superclass&#39;s __init__ method?"
   ]
  },
  {
   "cell_type": "markdown",
   "id": "a77c5738",
   "metadata": {},
   "source": [
    "Ans 3. A class needs to manually call a superclass's __init__ method because when a subclass defines its own __init__ method, it overrides the superclass's __init__ method. This means that if the superclass has some initialization code that needs to be executed when an instance is created, this code will not be executed unless the subclass explicitly calls the superclass's __init__ method.\n",
    "\n",
    "For example, consider the following code:"
   ]
  },
  {
   "cell_type": "code",
   "execution_count": 4,
   "id": "dd349ee6",
   "metadata": {},
   "outputs": [],
   "source": [
    "class Animal:\n",
    "    def __init__(self, name):\n",
    "        self.name = name\n",
    "        print(\"Created a new animal:\", self.name)\n",
    "\n",
    "class Dog(Animal):\n",
    "    def __init__(self, name, breed):\n",
    "        self.breed = breed\n",
    "        print(\"Created a new dog:\", name, \"of breed\", self.breed)"
   ]
  },
  {
   "cell_type": "markdown",
   "id": "399f1554",
   "metadata": {},
   "source": [
    "In this code, Animal is a superclass of Dog. Animal has an __init__ method that takes a name parameter and initializes an instance variable self.name with the given name. Dog overrides Animal's __init__ method to add a breed parameter and print a message about the new dog. However, Dog does not call Animal's __init__ method, which means that the name instance variable is not initialized.\n",
    "\n",
    "To fix this, we can modify Dog's __init__ method to call Animal's __init__ method using the super() function:"
   ]
  },
  {
   "cell_type": "code",
   "execution_count": 5,
   "id": "4b176b4e",
   "metadata": {},
   "outputs": [],
   "source": [
    "class Dog(Animal):\n",
    "    def __init__(self, name, breed):\n",
    "        super().__init__(name)\n",
    "        self.breed = breed\n",
    "        print(\"Created a new dog:\", name, \"of breed\", self.breed)"
   ]
  },
  {
   "cell_type": "markdown",
   "id": "fb5ca9b8",
   "metadata": {},
   "source": [
    "This ensures that the name instance variable is initialized correctly when a new Dog instance is created."
   ]
  },
  {
   "cell_type": "markdown",
   "id": "696c99ce",
   "metadata": {},
   "source": [
    "### Q4. How can you augment, instead of completely replacing, an inherited method?"
   ]
  },
  {
   "cell_type": "markdown",
   "id": "dced894e",
   "metadata": {},
   "source": [
    "Ans 4. In object-oriented programming, inheritance is a mechanism that allows a subclass to inherit properties and methods from a parent class. If you want to modify the behavior of an inherited method in a subclass, you can use a technique called method overriding. However, if you want to add some extra functionality to the inherited method without completely replacing it, you can use a technique called method augmentation or method extension.\n",
    "\n",
    "Method augmentation involves adding some extra functionality to the inherited method without completely replacing it. This technique is achieved by calling the inherited method from within the subclass method, and then adding the extra functionality after the call. Here is an example in Python:"
   ]
  },
  {
   "cell_type": "code",
   "execution_count": 7,
   "id": "6f58c9d4",
   "metadata": {},
   "outputs": [
    {
     "name": "stdout",
     "output_type": "stream",
     "text": [
      "Generic animal sound\n",
      "Meow\n"
     ]
    }
   ],
   "source": [
    "class Animal:\n",
    "    def make_sound(self):\n",
    "        print(\"Generic animal sound\")\n",
    "\n",
    "class Cat(Animal):\n",
    "    def make_sound(self):\n",
    "        super().make_sound() # Call inherited method\n",
    "        print(\"Meow\") # Add extra functionality\n",
    "\n",
    "cat = Cat()\n",
    "cat.make_sound() # Output: \"Generic animal sound\" followed by \"Meow\""
   ]
  },
  {
   "cell_type": "markdown",
   "id": "25dc7cba",
   "metadata": {},
   "source": [
    "In this example, the Cat subclass inherits the make_sound method from the Animal parent class. However, the make_sound method in the Cat subclass overrides the inherited method by calling super().make_sound() to invoke the inherited method and then adds the extra functionality by printing \"Meow\" afterwards.\n",
    "\n",
    "Method augmentation allows you to reuse existing code and add new functionality without breaking the existing code. It is a useful technique when you want to modify the behavior of an inherited method without completely replacing it.\n",
    "\n",
    "\n",
    "\n"
   ]
  },
  {
   "cell_type": "markdown",
   "id": "30e0e81f",
   "metadata": {},
   "source": [
    "### Q5. How is the local scope of a class different from that of a function?"
   ]
  },
  {
   "cell_type": "markdown",
   "id": "128263a1",
   "metadata": {},
   "source": [
    "Ans5. In Python, a class is a blueprint for creating objects, while a function is a block of code that performs a specific task. Both classes and functions have their own local scopes, but they differ in how they are defined and accessed.\n",
    "\n",
    "The local scope of a class is defined by the class body, which includes class-level variables and methods. These variables and methods can be accessed using the class name or an instance of the class. The local scope of a class can be accessed from within methods using the self keyword.\n",
    "\n",
    "On the other hand, the local scope of a function is defined by the function body, which includes function-level variables and arguments. These variables and arguments can only be accessed within the function body and are not visible outside of it.\n",
    "\n",
    "In summary, the local scope of a class includes class-level variables and methods, while the local scope of a function includes function-level variables and arguments. Both scopes can be accessed within their respective classes and functions, but they differ in their definition and visibility."
   ]
  },
  {
   "cell_type": "code",
   "execution_count": null,
   "id": "bdeca06d",
   "metadata": {},
   "outputs": [],
   "source": []
  }
 ],
 "metadata": {
  "kernelspec": {
   "display_name": "Python 3 (ipykernel)",
   "language": "python",
   "name": "python3"
  },
  "language_info": {
   "codemirror_mode": {
    "name": "ipython",
    "version": 3
   },
   "file_extension": ".py",
   "mimetype": "text/x-python",
   "name": "python",
   "nbconvert_exporter": "python",
   "pygments_lexer": "ipython3",
   "version": "3.9.13"
  }
 },
 "nbformat": 4,
 "nbformat_minor": 5
}
